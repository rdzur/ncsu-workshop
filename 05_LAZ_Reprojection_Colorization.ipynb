{
 "cells": [
  {
   "cell_type": "markdown",
   "id": "b26d6874",
   "metadata": {},
   "source": [
    "# LAZ Reprojection and Colorization"
   ]
  },
  {
   "cell_type": "code",
   "execution_count": null,
   "id": "4f347337",
   "metadata": {},
   "outputs": [],
   "source": [
    "import os\n",
    "import time\n",
    "import pdal\n",
    "import json\n",
    "import glob\n",
    "import pyproj\n",
    "import rasterio as rio\n",
    "import laspy\n",
    "from pdal_colorization import *"
   ]
  },
  {
   "cell_type": "markdown",
   "id": "11db3012",
   "metadata": {},
   "source": [
    "Run the following cell to set parameters for LiDAR point cloud (LPC) colorization and dem filtering with [PDAL](https://pdal.io).  In addition to input and output folder definitions for source and colorized output, the location of the DEM and NAIP mosaics created the earlier SVF creation exercise are defined. "
   ]
  },
  {
   "cell_type": "code",
   "execution_count": null,
   "id": "6061959c",
   "metadata": {},
   "outputs": [],
   "source": [
    "in_fld = \"LPC\"\n",
    "out_fld = \"LPC_Color\"\n",
    "dem_file = \"./Reference/NC_P3_2015_TEM_Coleridge_SE_opr.tif\"\n",
    "naip_file = \"./Reference/NC_P3_2015_TEM_Coleridge_SE_naip.tif\"\n",
    "crs = \"EPSG:6543+6360\""
   ]
  },
  {
   "cell_type": "markdown",
   "id": "823c38ba",
   "metadata": {},
   "source": [
    "The next cell calls the pdal_colorization python script which also embeds json pdal options for removing or filtering noise [classes](https://www.asprs.org/divisions-committees/lidar-division/laser-las-file-format-exchange-activities) (7, 18) from the input point cloud. The json parameters also apply additional Z (elevation) value filtering to remove potential additional noise not classified as noise within a defined envelope (50 ft below and 300 ft above) referenced to the input DEM Z value.  The json also defines Red, Green, Blue (RGB) colorization from the source 2014 vintage NAIP data. The downloaded point cloud data are also in latitude longitude and are reprojected to the same coordinate space as the source OPR DEM data (EPSG:6543+6360).\n",
    "\n",
    "LPC Reprojection and Colorization\n",
    "Dataset|Tile Count|Time (Seconds)|Time (Minutes)|Time (Hours)\n",
    "---|---|---|---|---\n",
    "NC_P3_2015_Coleridge_SE|30|109.28|1.82|0.03\n",
    "TEM|195|525.4|8.75|0.15\n",
    "NC_P3_2015|11242|37564.26|626.0|10.43\n",
    "\n",
    "The full North Carolina Phase 3 colorized EPT: [NC_P3_2015_rgb](https://potree.bhinc.com/data/view.html?r=%22https://entwine.bhinc.com/NC_P3_2015_mp_rgb%22)"
   ]
  },
  {
   "cell_type": "code",
   "execution_count": null,
   "id": "88ce7d8c",
   "metadata": {},
   "outputs": [],
   "source": [
    "start_time = time.time()\n",
    "\n",
    "os.makedirs(out_fld,exist_ok=True)\n",
    "    \n",
    "files = os.listdir(in_fld)\n",
    "    \n",
    "pool = ProcessPoolExecutor(max_workers=mp.cpu_count())\n",
    "_ = list(\n",
    "    pool.map(\n",
    "        pdal_colorization,\n",
    "        files,\n",
    "        repeat(in_fld),\n",
    "        repeat(out_fld),\n",
    "        repeat(dem_file),\n",
    "        repeat(naip_file),\n",
    "        repeat(crs)\n",
    "    )\n",
    ")\n",
    "    \n",
    "print(f\"\\n--- {time.time() - start_time} seconds ---\")"
   ]
  }
 ],
 "metadata": {
  "kernelspec": {
   "display_name": "ncsu-tem",
   "language": "python",
   "name": "python3"
  },
  "language_info": {
   "codemirror_mode": {
    "name": "ipython",
    "version": 3
   },
   "file_extension": ".py",
   "mimetype": "text/x-python",
   "name": "python",
   "nbconvert_exporter": "python",
   "pygments_lexer": "ipython3",
   "version": "3.12.5"
  }
 },
 "nbformat": 4,
 "nbformat_minor": 5
}

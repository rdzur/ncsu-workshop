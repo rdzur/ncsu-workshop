{
 "cells": [
  {
   "cell_type": "markdown",
   "id": "d7bad2af-14ed-4c5c-98a4-a97a691fd035",
   "metadata": {},
   "source": [
    "# Obtain NC Phase3 2015 DEM Test Data"
   ]
  },
  {
   "cell_type": "markdown",
   "id": "e40efe24-d07f-4687-89b1-b0f55b030b40",
   "metadata": {},
   "source": [
    "Data (DEM / LiDAR) for this exercise is available at the NOAA Digital Coast bulk download site:  \n",
    "\n",
    "- DEM:  [https://chs.coast.noaa.gov/htdata/raster2/elevation/NorthCarolina_DEM_2015P3_6205/](https://chs.coast.noaa.gov/htdata/raster2/elevation/NorthCarolina_DEM_2015P3_6205/)\n",
    "  \n",
    "  - DEM Index:   [tileindex_NorthCarolina_DEM_2015P3.zip](https://chs.coast.noaa.gov/htdata/raster2/elevation/NorthCarolina_DEM_2015P3_6205/tileindex_NorthCarolina_DEM_2015P3.zip)\n",
    "  - DEM URL List:  [urllist6205.txt](https://chs.coast.noaa.gov/htdata/raster2/elevation/NorthCarolina_DEM_2015P3_6205/urllist6205.txt)  \n",
    "  \n",
    "- LiDAR:  [https://noaa-nos-coastal-lidar-pds.s3.amazonaws.com/laz/geoid18/6209/index.html](https://noaa-nos-coastal-lidar-pds.s3.amazonaws.com/laz/geoid18/6209/index.html)\n",
    "\n",
    "  - LiDAR Index:   [nc2015_phaseIII_index.gpkg](https://noaa-nos-coastal-lidar-pds.s3.amazonaws.com/laz/geoid18/6209/nc2015_phaseIII_index.gpkg)\n",
    "  - LiDAR URL List: [urllist6209.txt](https://noaa-nos-coastal-lidar-pds.s3.amazonaws.com/laz/geoid18/6209/urllist6209.txt)\n",
    "\n"
   ]
  },
  {
   "cell_type": "markdown",
   "id": "3b3f01be-704e-4575-92ba-b9bba97592eb",
   "metadata": {},
   "source": [
    "## Download the DEM and LiDAR URL lists."
   ]
  },
  {
   "cell_type": "markdown",
   "id": "1da36756-e561-4cad-933e-3a4c01b3dc5e",
   "metadata": {},
   "source": [
    "Below, wget is used to download the URL lists.  For compatibility with Windows OS, wget commands are commented out below and substituted with a function to emulate wget. "
   ]
  },
  {
   "cell_type": "code",
   "execution_count": null,
   "id": "0a75a35e",
   "metadata": {},
   "outputs": [],
   "source": [
    "import os\n",
    "import csv\n",
    "import glob\n",
    "import time\n",
    "import argparse\n",
    "import multiprocessing as mp\n",
    "import requests #this is used to replace !wget\n",
    "import pandas as pd \n",
    "from concurrent.futures import ProcessPoolExecutor\n",
    "from itertools import repeat\n",
    "from download_files import *"
   ]
  },
  {
   "cell_type": "markdown",
   "id": "49ae565b",
   "metadata": {},
   "source": [
    "Check present working directory with bash syntax."
   ]
  },
  {
   "cell_type": "code",
   "execution_count": null,
   "id": "ad6f0ab4",
   "metadata": {},
   "outputs": [],
   "source": [
    "!pwd"
   ]
  },
  {
   "cell_type": "markdown",
   "id": "03c3cbe3",
   "metadata": {},
   "source": [
    "Check current working directory with python syntax."
   ]
  },
  {
   "cell_type": "code",
   "execution_count": null,
   "id": "73da117d",
   "metadata": {},
   "outputs": [],
   "source": [
    "os.getcwd()"
   ]
  },
  {
   "cell_type": "markdown",
   "id": "712e27b1",
   "metadata": {},
   "source": [
    "Check present working directory on Windows."
   ]
  },
  {
   "cell_type": "code",
   "execution_count": null,
   "id": "1bc6f22a",
   "metadata": {},
   "outputs": [],
   "source": [
    "!echo %cd%"
   ]
  },
  {
   "cell_type": "code",
   "execution_count": null,
   "id": "43400bb2-cf7a-4349-92cc-adaa924b0f07",
   "metadata": {},
   "outputs": [],
   "source": [
    "def get_url_list(url, output_csv_name):\n",
    "    # Create the Reference directory if it doesn't exist\n",
    "    os.makedirs('./Reference', exist_ok=True)\n",
    "    \n",
    "    # Send a GET request to the URL\n",
    "    response = requests.get(url)\n",
    "    \n",
    "    # Check if the request was successful\n",
    "    if response.status_code == 200:\n",
    "        # Write the content to a file\n",
    "        with open(output_csv_name, 'wb') as file:\n",
    "            file.write(response.content)\n",
    "        print(\"File downloaded successfully.\")\n",
    "    else:\n",
    "        print(f\"Failed to download the file. Status code: {response.status_code}\")\n"
   ]
  },
  {
   "cell_type": "code",
   "execution_count": null,
   "id": "81714c37-05ca-4f58-b3af-dfb7c549ae66",
   "metadata": {},
   "outputs": [],
   "source": [
    "# !wget -P ./Reference -np -nd -r -nH -L \"https://chs.coast.noaa.gov/htdata/raster2/elevation/NorthCarolina_DEM_2015P3_6205/urllist6205.txt\"\n",
    "get_url_list('https://chs.coast.noaa.gov/htdata/raster2/elevation/NorthCarolina_DEM_2015P3_6205/urllist6205.txt', './Reference/urllist6205.txt')"
   ]
  },
  {
   "cell_type": "code",
   "execution_count": null,
   "id": "06f9e59c-f318-41a0-8560-afed82a2fba4",
   "metadata": {},
   "outputs": [],
   "source": [
    "# !wget -P ./Reference -np -nd -r -nH -L \"https://noaa-nos-coastal-lidar-pds.s3.amazonaws.com/laz/geoid18/6209/urllist6209.txt\"\n",
    "get_url_list('https://noaa-nos-coastal-lidar-pds.s3.amazonaws.com/laz/geoid18/6209/urllist6209.txt','./Reference/urllist6209.txt')"
   ]
  },
  {
   "cell_type": "markdown",
   "id": "d721ecdc-d434-4483-a7e0-526ca2c1f847",
   "metadata": {},
   "source": [
    "For the Coldridge SE TEM exercises, **30** original product resolution (OPR) digital elevation model (DEM) tiles will be utilized.  The LiDAR tiles count is also 30.  A file listing text file for the 30 DEM and LiDAR point cloud (LPC) data are in the \"Reference\" folder and printed with the following cells."
   ]
  },
  {
   "cell_type": "code",
   "execution_count": null,
   "id": "78e682db-9680-433e-a1d2-a9e4394e351e",
   "metadata": {},
   "outputs": [],
   "source": [
    "!cat -n ./Reference/NC_P3_2015_TEM_Coleridge_SE_opr.csv | column"
   ]
  },
  {
   "cell_type": "code",
   "execution_count": null,
   "id": "5e30548b-8753-4cc5-b2e8-81fe03498aeb",
   "metadata": {},
   "outputs": [],
   "source": [
    "!cat -n ./Reference/NC_P3_2015_TEM_Coleridge_SE_lpc.csv | column"
   ]
  },
  {
   "cell_type": "markdown",
   "id": "5b8b8d06-cda4-40a3-a60f-33d2409ab9c8",
   "metadata": {},
   "source": [
    "The following two cells extract the relevant urls for both the DEM and LiDAR from the respective NC P3 2015 URL text files containing the download links."
   ]
  },
  {
   "cell_type": "code",
   "execution_count": null,
   "id": "7d5b15ed-843f-40c8-b4de-cf4acfb8c4b1",
   "metadata": {},
   "outputs": [],
   "source": [
    "def filter_urls(input_csv, url_list, output_csv):\n",
    "    # Read the input CSV as a single column DataFrame\n",
    "    search_terms_df = pd.read_csv(input_csv, header=None, names=['Term'])\n",
    "    \n",
    "    # Read the URL list\n",
    "    urls_df = pd.read_csv(url_list, header=None, names=['URL'])\n",
    "\n",
    "    # Filter URLs\n",
    "    matched_urls = []\n",
    "    for term in search_terms_df['Term']:\n",
    "        matched = urls_df[urls_df['URL'].str.contains(term, na=False)]\n",
    "        matched_urls.extend(matched['URL'].tolist())\n",
    "\n",
    "    # Write matched URLs to output CSV\n",
    "    result_df = pd.DataFrame(matched_urls)\n",
    "    result_df.to_csv(output_csv, index=False, header=False)\n",
    "    \n",
    "    print(f\"Filtered URLs have been written to {output_csv}\")\n",
    "    print(f\"Number of matched URLs: {len(result_df)}\")"
   ]
  },
  {
   "cell_type": "code",
   "execution_count": null,
   "id": "0efb0d38-f286-42b6-b96a-b532948622f1",
   "metadata": {},
   "outputs": [],
   "source": [
    "# !for i in $(cat ./Reference/NC_P3_2015_TEM_Coleridge_SE_opr.csv) ; do cat ./Reference/urllist6205.txt | grep $i >> ./Reference/NC_P3_2015_TEM_Coleridge_SE_opr_links.csv ; done\n",
    "\n",
    "filter_urls('./Reference/NC_P3_2015_TEM_Coleridge_SE_opr.csv', './Reference/urllist6205.txt', './Reference/NC_P3_2015_TEM_Coleridge_SE_opr_links.csv')"
   ]
  },
  {
   "cell_type": "code",
   "execution_count": null,
   "id": "907553bb-fcba-4ea7-b8c5-24126809f9d4",
   "metadata": {},
   "outputs": [],
   "source": [
    "# !for i in $(cat ./Reference/NC_P3_2015_TEM_Coleridge_SE_lpc.csv) ; do cat ./Reference/urllist6209.txt | grep $i >> ./Reference/NC_P3_2015_TEM_Coleridge_SE_lpc_links.csv ; done\n",
    "\n",
    "filter_urls('./Reference/NC_P3_2015_TEM_Coleridge_SE_lpc.csv', './Reference/urllist6209.txt', './Reference/NC_P3_2015_TEM_Coleridge_SE_lpc_links.csv')"
   ]
  },
  {
   "cell_type": "markdown",
   "id": "6caf91fd-b725-493e-bc56-651c8236aee2",
   "metadata": {},
   "source": [
    "The next two cells print the contents of the download links (**30**). "
   ]
  },
  {
   "cell_type": "code",
   "execution_count": null,
   "id": "c0ea33d7-7407-4ac1-a4e2-8a85183e4609",
   "metadata": {},
   "outputs": [],
   "source": [
    "!cat -n ./Reference/NC_P3_2015_TEM_Coleridge_SE_opr_links.csv"
   ]
  },
  {
   "cell_type": "code",
   "execution_count": null,
   "id": "eb77dcf0-ef3b-4ebd-86c3-0d59f33721ac",
   "metadata": {},
   "outputs": [],
   "source": [
    "!cat -n ./Reference/NC_P3_2015_TEM_Coleridge_SE_lpc_links.csv"
   ]
  },
  {
   "cell_type": "markdown",
   "id": "e5d59b54-6d45-46c9-a3ab-7ea94bda3ac1",
   "metadata": {},
   "source": [
    "The next cells download the 30 files.  There is a bash script and a python multiprocess mode.\n",
    "  + The DEM data are downloaded to an Original Product Resolution (**OPR**) folder.  \n",
    "  + The LiDAR data are downloaded to a LiDAR Point Cloud (**LPC**) folder.   \n",
    "  \n",
    "    The following table shows estimated download times for both original product resolution (OPR) DEM data and LPC data in either serial mode with bash or multiprocess mode with python.\n",
    "\n",
    "  \n",
    "    | Data | Mode | Script | Download Time (seconds) | Download Time (minutes) | Size (GB)\n",
    "    |---|---|---|---|---|---\n",
    "    | OPR (.tif)|Serial | bash | 113 | 2 | 0.31 \n",
    "    | LPC (.laz)|Serial | bash | 1078 | 18 | 3.35\n",
    "    | OPR (.tif)|Multiprocess | python | 10.72 | .17 | 0.31 \n",
    "    | LPC (.laz)|Multiprocess | python | 94.60 | 1.57 | 3.35\n",
    "    \n"
   ]
  },
  {
   "cell_type": "markdown",
   "id": "87622547",
   "metadata": {},
   "source": [
    "This next cell could download test data in serial mode. For faster download the python multiprocess method is recommended."
   ]
  },
  {
   "cell_type": "code",
   "execution_count": null,
   "id": "be79539b-13cf-4f3c-8524-57a994f213df",
   "metadata": {},
   "outputs": [],
   "source": [
    "# %%bash\n",
    "# START=$(date +%s);\n",
    "# sleep 1; \n",
    "# echo $START\n",
    "# for map in $(cat ./Reference/NC_P3_2015_TEM_Coleridge_SE_opr_links.csv ) ; do wget -P ./OPR -np -nd -r -nH -L $map ; done\n",
    "# END=$(date +%s);\n",
    "# echo ----- $((END-START)) seconds -----"
   ]
  },
  {
   "cell_type": "markdown",
   "id": "36edcf00",
   "metadata": {},
   "source": [
    "In the cell below, the input csv file with URL links and output folder are defined for python script download_files.py."
   ]
  },
  {
   "cell_type": "code",
   "execution_count": null,
   "id": "11d54ad4",
   "metadata": {},
   "outputs": [],
   "source": [
    "in_file = \"./Reference/NC_P3_2015_TEM_Coleridge_SE_opr_links.csv\"\n",
    "out_fld = \"./OPR\""
   ]
  },
  {
   "cell_type": "code",
   "execution_count": null,
   "id": "fa9217e8",
   "metadata": {},
   "outputs": [],
   "source": [
    "start_time = time.time()\n",
    "os.makedirs(out_fld,exist_ok=True)\n",
    "\n",
    "with open(in_file,'r') as file:\n",
    "    urls,reader = [],csv.reader(file)\n",
    "    for line in reader: urls.append(line[0])\n",
    "\n",
    "pool = ProcessPoolExecutor(max_workers=mp.cpu_count())\n",
    "_ = list(\n",
    "    pool.map(\n",
    "        download_file,\n",
    "        urls,\n",
    "        repeat(out_fld)\n",
    "    )\n",
    ")\n",
    "\n",
    "print(f\"\\n\\n------ Done. {time.time() - start_time} seconds ------\\n\\n\")"
   ]
  },
  {
   "cell_type": "code",
   "execution_count": null,
   "id": "42114db2-cdff-4c28-85f7-75c7ec95c655",
   "metadata": {
    "scrolled": true
   },
   "outputs": [],
   "source": [
    "# %%bash\n",
    "# START=$(date +%s);\n",
    "# sleep 1; \n",
    "# echo $START\n",
    "# for map in $(cat ./Reference/NC_P3_2015_TEM_Coleridge_SE_lpc_links.csv ) ; do wget -P ./LPC -np -nd -r -nH -L $map ; done\n",
    "# END=$(date +%s);\n",
    "# echo ----- $((END-START)) seconds -----"
   ]
  },
  {
   "cell_type": "code",
   "execution_count": null,
   "id": "9104f3c2",
   "metadata": {},
   "outputs": [],
   "source": [
    "in_file = \"./Reference/NC_P3_2015_TEM_Coleridge_SE_lpc_links.csv\"\n",
    "out_fld = \"./LPC\""
   ]
  },
  {
   "cell_type": "code",
   "execution_count": null,
   "id": "9ab88b90",
   "metadata": {},
   "outputs": [],
   "source": [
    "start_time = time.time()\n",
    "os.makedirs(out_fld,exist_ok=True)\n",
    "\n",
    "with open(in_file,'r') as file:\n",
    "    urls,reader = [],csv.reader(file)\n",
    "    for line in reader: urls.append(line[0])\n",
    "\n",
    "pool = ProcessPoolExecutor(max_workers=mp.cpu_count())\n",
    "_ = list(\n",
    "    pool.map(\n",
    "        download_file,\n",
    "        urls,\n",
    "        repeat(out_fld)\n",
    "    )\n",
    ")\n",
    "\n",
    "print(f\"------ Done. {time.time() - start_time} seconds ------\")"
   ]
  },
  {
   "cell_type": "markdown",
   "id": "719f3e94",
   "metadata": {},
   "source": [
    "## Create Reference Data and Mosaics."
   ]
  },
  {
   "cell_type": "markdown",
   "id": "4121395e",
   "metadata": {},
   "source": [
    "The next cells use [gdal](https://gdal.org) to create raster mosaics for the original product resolution (OPR) DEM and National Agriculture Imagery Program (NAIP) data."
   ]
  },
  {
   "cell_type": "markdown",
   "id": "3d8bb6a6",
   "metadata": {},
   "source": [
    "Create a text listing of the downloaded OPR data.  These bash commands will be subsequently repeated for NAIP datasets."
   ]
  },
  {
   "cell_type": "code",
   "execution_count": null,
   "id": "fb181f0e",
   "metadata": {},
   "outputs": [],
   "source": [
    "!find ./OPR -name '*.tif' > Reference/NC_P3_2015_TEM_Coleridge_SE_opr.txt"
   ]
  },
  {
   "cell_type": "code",
   "execution_count": null,
   "id": "e8275c3d",
   "metadata": {},
   "outputs": [],
   "source": [
    "!find ./NAIP_2014 -name '*.jp2' > Reference/NC_P3_2015_TEM_Coleridge_SE_naip.txt"
   ]
  },
  {
   "cell_type": "markdown",
   "id": "661a3d5c",
   "metadata": {},
   "source": [
    "Below a spatial index of the downloaded DEM can be created with [gdaltindex](https://gdal.org/programs/gdaltindex.html#gdaltindex) using the input text listings."
   ]
  },
  {
   "cell_type": "code",
   "execution_count": null,
   "id": "9945c2a0",
   "metadata": {},
   "outputs": [],
   "source": [
    "!gdaltindex Reference/NC_P3_2015_TEM_Coleridge_SE_opr.shp --optfile Reference/NC_P3_2015_TEM_Coleridge_SE_opr.txt "
   ]
  },
  {
   "cell_type": "markdown",
   "id": "3ac6f650",
   "metadata": {},
   "source": [
    "A dissolved single polygon can be generated with [ogr2ogr](https://gdal.org/programs/ogr2ogr.html)."
   ]
  },
  {
   "cell_type": "code",
   "execution_count": null,
   "id": "d3ccfefd",
   "metadata": {},
   "outputs": [],
   "source": [
    "!ogr2ogr Reference/NC_P3_2015_TEM_Coleridge_SE_opr_index_dissolve.shp Reference/NC_P3_2015_TEM_Coleridge_SE_opr.shp -dialect sqlite -sql \"SELECT ST_Union(geometry) AS geometry FROM NC_P3_2015_TEM_Coleridge_SE_opr\""
   ]
  },
  {
   "cell_type": "markdown",
   "id": "50b7b7e5",
   "metadata": {},
   "source": [
    "The input text listings can also be used as input to develop raster virtual datasets with [gdalbuildvrt](https://gdal.org/programs/gdalbuildvrt.html#gdalbuildvrt)."
   ]
  },
  {
   "cell_type": "code",
   "execution_count": null,
   "id": "4ba104bc",
   "metadata": {},
   "outputs": [],
   "source": [
    "!gdalbuildvrt Reference/NC_P3_2015_TEM_Coleridge_SE_opr.vrt -input_file_list Reference/NC_P3_2015_TEM_Coleridge_SE_opr.txt"
   ]
  },
  {
   "cell_type": "code",
   "execution_count": null,
   "id": "3718ee17",
   "metadata": {},
   "outputs": [],
   "source": [
    "!gdalbuildvrt Reference/NC_P3_2015_TEM_Coleridge_SE_naip.vrt -input_file_list Reference/NC_P3_2015_TEM_Coleridge_SE_naip.txt"
   ]
  },
  {
   "cell_type": "markdown",
   "id": "e3887136",
   "metadata": {},
   "source": [
    "A physical GeoTIFF (Cloud Optimized - [COG](https://gdal.org/drivers/raster/cog.html#raster-cog)) can be generated for display with [gdalwarp](https://gdal.org/programs/gdalwarp.html) in about ~60 for OPR DEM, and ~3 minutes for the NAIP mosaic."
   ]
  },
  {
   "cell_type": "code",
   "execution_count": null,
   "id": "2e7bb25c",
   "metadata": {},
   "outputs": [],
   "source": [
    "# %%bash\n",
    "# START=$(date +%s);\n",
    "# sleep 1; \n",
    "# echo $START\n",
    "# gdalwarp Reference/NC_P3_2015_TEM_Coleridge_SE_opr.vrt Reference/NC_P3_2015_TEM_Coleridge_SE_opr.tif -of COG -co COMPRESS=LZW -co PREDICTOR=YES -co BLOCKSIZE=128 -co RESAMPLING=CUBIC -co OVERVIEW_PREDICTOR=YES -co OVERVIEW_COUNT=10 -co OVERVIEWS=IGNORE_EXISTING -co BIGTIFF=YES -co ADD_ALPHA=YES -overwrite\n",
    "# END=$(date +%s);\n",
    "# echo ----- $((END-START)) seconds -----\n",
    "\n",
    "!gdalwarp Reference/NC_P3_2015_TEM_Coleridge_SE_opr.vrt Reference/NC_P3_2015_TEM_Coleridge_SE_opr.tif -of COG -co COMPRESS=LZW -co PREDICTOR=YES -co BLOCKSIZE=128 -co RESAMPLING=CUBIC -co OVERVIEW_PREDICTOR=YES -co OVERVIEW_COUNT=10 -co OVERVIEWS=IGNORE_EXISTING -co BIGTIFF=YES -co ADD_ALPHA=YES --config GDAL_CACHEMAX 75% -co NUM_THREADS=10 -overwrite"
   ]
  },
  {
   "cell_type": "code",
   "execution_count": null,
   "id": "63d8b902",
   "metadata": {},
   "outputs": [],
   "source": [
    "# %%bash\n",
    "# START=$(date +%s);\n",
    "# sleep 1; \n",
    "# echo $START\n",
    "# gdalwarp Reference/NC_P3_2015_TEM_Coleridge_SE_naip.vrt Reference/NC_P3_2015_TEM_Coleridge_SE_naip.tif -t_srs \"EPSG:6543\" -dstalpha -of COG -co COMPRESS=LZW -co PREDICTOR=YES -co BLOCKSIZE=128 -co RESAMPLING=CUBIC -co OVERVIEW_PREDICTOR=YES -co OVERVIEW_COUNT=10 -co OVERVIEWS=IGNORE_EXISTING -co BIGTIFF=YES -overwrite\n",
    "# END=$(date +%s);\n",
    "# echo ----- $((END-START)) seconds -----\n",
    "\n",
    "!gdalwarp Reference/NC_P3_2015_TEM_Coleridge_SE_naip.vrt Reference/NC_P3_2015_TEM_Coleridge_SE_naip.tif -t_srs \"EPSG:6543\" -dstalpha -of COG -co COMPRESS=LZW -co PREDICTOR=YES -co BLOCKSIZE=128 -co RESAMPLING=CUBIC -co OVERVIEW_PREDICTOR=YES -co OVERVIEW_COUNT=10 -co OVERVIEWS=IGNORE_EXISTING -co BIGTIFF=YES --config GDAL_CACHEMAX 75% -co NUM_THREADS=10 -overwrite"
   ]
  },
  {
   "cell_type": "markdown",
   "id": "af324dfc",
   "metadata": {},
   "source": [
    "Image data source such as the National Agricultural Imagery Program (NAIP) is also used later in this exercise to colorize the downloaded LPC data.  Given that the downloaded data is vintage 2015, the [USGS EarthExplorer](https://earthexplorer.usgs.gov) is a good option especially for legacy/vintage NAIP data, however, this site requires an account with login credentials for data download.  Nonetheless, it may be the best option, for example, to approximate similar temporal range between image and point cloud source.  The EarthExplorer repository allows for search with a kml bounding box or ESRI Shapefile that can be generated using gdal ogr.  Alternatively, the [USGS](https://apps.nationalmap.gov/services/) also has a composite NAIP WMS source from which RGB & CIR rasters may be extracted."
   ]
  },
  {
   "cell_type": "markdown",
   "id": "72fd3046",
   "metadata": {},
   "source": [
    "The USGS National Map Services also include additional layer information for useful features such as the USGS Map Indices: [https://carto.nationalmap.gov/arcgis/rest/services/map_indices/MapServer](https://carto.nationalmap.gov/arcgis/rest/services/map_indices/MapServer)."
   ]
  },
  {
   "cell_type": "markdown",
   "id": "9eff447e",
   "metadata": {},
   "source": [
    "## Retrieve Reference Data and Generate Mosaics."
   ]
  },
  {
   "cell_type": "markdown",
   "id": "a304b55e",
   "metadata": {},
   "source": [
    "The following cell reads USGSNAIPImagery WMS services (natural color (RGB) and color infrared (CIR) imagery) with [gdalinfo](https://gdal.org/programs/gdalinfo.html)."
   ]
  },
  {
   "cell_type": "code",
   "execution_count": null,
   "id": "aa8f52bd",
   "metadata": {},
   "outputs": [],
   "source": [
    "# %%bash\n",
    "# gdalinfo \"WMS:https://imagery.nationalmap.gov:443/arcgis/services/USGSNAIPImagery/ImageServer/WMSServer?SERVICE=WMS&VERSION=1.1.1&REQUEST=GetMap&LAYERS=USGSNAIPImagery:None&SRS=EPSG:4326&BBOX=-124.831355,24.485899,-66.851641,49.571288\"\n",
    "# gdalinfo \"WMS:https://imagery.nationalmap.gov:443/arcgis/services/USGSNAIPImagery/ImageServer/WMSServer?SERVICE=WMS&VERSION=1.1.1&REQUEST=GetMap&LAYERS=USGSNAIPImagery:FalseColorComposite&SRS=EPSG:4326&BBOX=-124.831355,24.485899,-66.851641,49.571288\"\n",
    "\n",
    "!gdalinfo \"WMS:https://imagery.nationalmap.gov:443/arcgis/services/USGSNAIPImagery/ImageServer/WMSServer?SERVICE=WMS&VERSION=1.1.1&REQUEST=GetMap&LAYERS=USGSNAIPImagery:None&SRS=EPSG:4326&BBOX=-124.831355,24.485899,-66.851641,49.571288\"\n",
    "!gdalinfo \"WMS:https://imagery.nationalmap.gov:443/arcgis/services/USGSNAIPImagery/ImageServer/WMSServer?SERVICE=WMS&VERSION=1.1.1&REQUEST=GetMap&LAYERS=USGSNAIPImagery:FalseColorComposite&SRS=EPSG:4326&BBOX=-124.831355,24.485899,-66.851641,49.571288\""
   ]
  },
  {
   "cell_type": "markdown",
   "id": "6bd8651e",
   "metadata": {},
   "source": [
    "This information can be stored in xml with [gdal_translate](https://gdal.org/programs/gdal_translate.html) for subsequent data operation / extraction."
   ]
  },
  {
   "cell_type": "code",
   "execution_count": null,
   "id": "2001d533",
   "metadata": {},
   "outputs": [],
   "source": [
    "# %%bash\n",
    "# gdal_translate -of WMS \"WMS:https://imagery.nationalmap.gov:443/arcgis/services/USGSNAIPImagery/ImageServer/WMSServer?SERVICE=WMS&VERSION=1.1.1&REQUEST=GetMap&LAYERS=USGSNAIPImagery:None&SRS=EPSG:4326&BBOX=-124.831355,24.485899,-66.851641,49.571288\" ./Reference/USGSNAIPImagery_RGB.xml\n",
    "# gdal_translate -of WMS \"WMS:https://imagery.nationalmap.gov:443/arcgis/services/USGSNAIPImagery/ImageServer/WMSServer?SERVICE=WMS&VERSION=1.1.1&REQUEST=GetMap&LAYERS=USGSNAIPImagery:FalseColorComposite&SRS=EPSG:4326&BBOX=-124.831355,24.485899,-66.851641,49.571288\" ./Reference/USGSNAIPImagery_CIR.xml\n",
    "\n",
    "!gdal_translate -of WMS \"WMS:https://imagery.nationalmap.gov:443/arcgis/services/USGSNAIPImagery/ImageServer/WMSServer?SERVICE=WMS&VERSION=1.1.1&REQUEST=GetMap&LAYERS=USGSNAIPImagery:None&SRS=EPSG:4326&BBOX=-124.831355,24.485899,-66.851641,49.571288\" ./Reference/USGSNAIPImagery_RGB.xml\n",
    "!gdal_translate -of WMS \"WMS:https://imagery.nationalmap.gov:443/arcgis/services/USGSNAIPImagery/ImageServer/WMSServer?SERVICE=WMS&VERSION=1.1.1&REQUEST=GetMap&LAYERS=USGSNAIPImagery:FalseColorComposite&SRS=EPSG:4326&BBOX=-124.831355,24.485899,-66.851641,49.571288\" ./Reference/USGSNAIPImagery_CIR.xml"
   ]
  },
  {
   "cell_type": "markdown",
   "id": "1bbc9d91",
   "metadata": {},
   "source": [
    "This next cell uses [gdalwarp](https://gdal.org/programs/gdalwarp.html) to download, reproject (to NAD83 (2011) State Plane North Carolina, US Survey Feet (EPSG 6543)) USGS NAIP RGB imagery in about ~7 minutes."
   ]
  },
  {
   "cell_type": "code",
   "execution_count": null,
   "id": "8d935e77",
   "metadata": {},
   "outputs": [],
   "source": [
    "# %%bash \n",
    "# gdalwarp -overwrite -dstalpha -s_srs EPSG:4326 -t_srs EPSG:6543 -tr 2.0 2.0 -of COG -cutline Reference/NC_P3_2015_TEM_Coleridge_SE_opr_index_dissolve.shp -crop_to_cutline -co COMPRESS=LZW -co PREDICTOR=YES -co BLOCKSIZE=128 -co RESAMPLING=CUBIC -co OVERVIEW_COUNT=10 -co OVERVIEW_PREDICTOR=YES -co BIGTIFF=YES --config GDAL_CACHEMAX 75% -co NUM_THREADS=10 -co OVERVIEWS=IGNORE_EXISTING -co ADD_ALPHA=YES Reference/USGSNAIPImagery_RGB.xml Reference/Coleridge_SE_USGS_NAIP_RGB.tif \n",
    "\n",
    "!gdalwarp -overwrite -dstalpha -s_srs EPSG:4326 -t_srs EPSG:6543 -tr 2.0 2.0 -of COG -cutline Reference/NC_P3_2015_TEM_Coleridge_SE_opr_index_dissolve.shp -crop_to_cutline -co COMPRESS=LZW -co PREDICTOR=YES -co BLOCKSIZE=128 -co RESAMPLING=CUBIC -co OVERVIEW_COUNT=10 -co OVERVIEW_PREDICTOR=YES -co BIGTIFF=YES --config GDAL_CACHEMAX 75% -co NUM_THREADS=10 -co OVERVIEWS=IGNORE_EXISTING -co ADD_ALPHA=YES Reference/USGSNAIPImagery_RGB.xml Reference/Coleridge_SE_USGS_NAIP_RGB.tif "
   ]
  },
  {
   "cell_type": "markdown",
   "id": "12263ad6",
   "metadata": {},
   "source": [
    "If desired, the same can be done for NAIP CIR data with the cell below."
   ]
  },
  {
   "cell_type": "code",
   "execution_count": null,
   "id": "591295e0",
   "metadata": {},
   "outputs": [],
   "source": [
    "# %%bash\n",
    "# gdalwarp -overwrite -dstalpha -s_srs EPSG:4326 -t_srs EPSG:6543 -tr 2.0 2.0 -of COG -cutline Reference/NC_P3_2015_TEM_Coleridge_SE_opr_index_dissolve.shp -crop_to_cutline -co COMPRESS=LZW -co PREDICTOR=YES -co BLOCKSIZE=128 -co RESAMPLING=CUBIC -co OVERVIEW_COUNT=10 -co OVERVIEW_PREDICTOR=YES -co BIGTIFF=YES --config GDAL_CACHEMAX 75% -co NUM_THREADS=10 -co OVERVIEWS=IGNORE_EXISTING -co ADD_ALPHA=YES Reference/USGSNAIPImagery_CIR.xml Reference/Coleridge_SE_USGS_NAIP_CIR.tif \n",
    "\n",
    "!gdalwarp -overwrite -dstalpha -s_srs EPSG:4326 -t_srs EPSG:6543 -tr 2.0 2.0 -of COG -cutline Reference/NC_P3_2015_TEM_Coleridge_SE_opr_index_dissolve.shp -crop_to_cutline -co COMPRESS=LZW -co PREDICTOR=YES -co BLOCKSIZE=128 -co RESAMPLING=CUBIC -co OVERVIEW_COUNT=10 -co OVERVIEW_PREDICTOR=YES -co BIGTIFF=YES --config GDAL_CACHEMAX 75% -co NUM_THREADS=10 -co OVERVIEWS=IGNORE_EXISTING -co ADD_ALPHA=YES Reference/USGSNAIPImagery_CIR.xml Reference/Coleridge_SE_USGS_NAIP_CIR.tif "
   ]
  }
 ],
 "metadata": {
  "kernelspec": {
   "display_name": "ncsu-tem",
   "language": "python",
   "name": "python3"
  },
  "language_info": {
   "codemirror_mode": {
    "name": "ipython",
    "version": 3
   },
   "file_extension": ".py",
   "mimetype": "text/x-python",
   "name": "python",
   "nbconvert_exporter": "python",
   "pygments_lexer": "ipython3",
   "version": "3.12.5"
  }
 },
 "nbformat": 4,
 "nbformat_minor": 5
}

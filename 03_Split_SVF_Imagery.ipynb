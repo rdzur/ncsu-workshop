{
 "cells": [
  {
   "cell_type": "markdown",
   "id": "fc4230dc-8746-4f8c-a38b-bec54d68c357",
   "metadata": {},
   "source": [
    "# Split SVF Imagery"
   ]
  },
  {
   "cell_type": "code",
   "execution_count": null,
   "id": "16ab0b8b-dc87-4327-be61-617efd575e88",
   "metadata": {},
   "outputs": [],
   "source": [
    "import os\n",
    "import multiprocessing as mp\n",
    "from split_images import *\n",
    "from concurrent.futures import ProcessPoolExecutor\n",
    "from itertools import repeat\n",
    "import time"
   ]
  },
  {
   "cell_type": "markdown",
   "id": "f8d266d4",
   "metadata": {},
   "source": [
    "This data preparation task splits the **30** SVF tiles into 4 pieces each with a 2 x 2 retiling operation.  The objective of this splitting technique is to maintain as much detail and fidelity from the source images when they are submitted to the YOLOv8 model for remnant building detection.  This is a key step for geospatial data which is typically formatted in larger tiled datasets.  Again the task, utilizes the [multiprocessing](https://docs.python.org/3/library/multiprocessing.html) python library to retile the original tile with time stamp.  The input and output directory variables are defined in the following cells and can be modified if it is desired to put the data into a different folder."
   ]
  },
  {
   "cell_type": "code",
   "execution_count": null,
   "id": "bb0e8d94",
   "metadata": {},
   "outputs": [],
   "source": [
    "start_time = time.time()\n",
    "\n",
    "in_fld = './SVF'\n",
    "out_fld = './SVF_2x2_Multiprocess'\n",
    "files = os.listdir(in_fld)\n",
    "\n",
    "if out_fld != None:\n",
    "    if not os.path.exists(out_fld):\n",
    "        os.makedirs(out_fld)\n",
    "else:\n",
    "    out_fld = \"./\"\n",
    "    \n",
    "rows,cols = 2,2\n",
    "\n",
    "pool = ProcessPoolExecutor(max_workers=mp.cpu_count())\n",
    "_ = list(\n",
    "    pool.map(\n",
    "        split_images_gr,\n",
    "        files,\n",
    "        repeat(in_fld),\n",
    "        repeat(rows),\n",
    "        repeat(cols),\n",
    "        repeat(out_fld)\n",
    "    )\n",
    ")\n",
    "\n",
    "print(\"--- %s seconds ---\" % (time.time() - start_time))\n",
    "\n",
    "#had to remove the .gitignore file from the SVF directory"
   ]
  },
  {
   "cell_type": "markdown",
   "id": "9c09f0a5",
   "metadata": {},
   "source": [
    "Split SVF Imagery\n",
    "Dataset|Computer|Tile Count|Time (Seconds)|Time (Minutes)\n",
    "---|---|---|---|---\n",
    "NC P3 2015|RDzur-Mac (M1 Max)|11,269|266.07|4.4\n",
    "NC_P3_2015_Coleridge_SE|RDzur-Mac (M1 Max)|30|1.64||"
   ]
  }
 ],
 "metadata": {
  "kernelspec": {
   "display_name": "ncsu-tem",
   "language": "python",
   "name": "python3"
  },
  "language_info": {
   "codemirror_mode": {
    "name": "ipython",
    "version": 3
   },
   "file_extension": ".py",
   "mimetype": "text/x-python",
   "name": "python",
   "nbconvert_exporter": "python",
   "pygments_lexer": "ipython3",
   "version": "3.12.5"
  }
 },
 "nbformat": 4,
 "nbformat_minor": 5
}

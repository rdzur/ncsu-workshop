{
 "cells": [
  {
   "cell_type": "markdown",
   "id": "630452b2-2279-43dd-b780-c2f782c073ae",
   "metadata": {},
   "source": [
    "# EPT Configuration"
   ]
  },
  {
   "cell_type": "code",
   "execution_count": null,
   "id": "8cc66512-8f9c-48fe-9f87-4153f3bcfb3c",
   "metadata": {},
   "outputs": [],
   "source": [
    "import os\n",
    "import time\n",
    "import glob\n",
    "import multiprocessing as mp\n",
    "from concurrent.futures import ProcessPoolExecutor\n",
    "from itertools import repeat\n",
    "from ept_config import *"
   ]
  },
  {
   "cell_type": "markdown",
   "id": "95629695",
   "metadata": {},
   "source": [
    "For large point cloud data handling, the [Entwine](https://entwine.io/en/latest/index.html) subset option provides an option to split the overall entwine point tile (EPT) creation task into multiple subsets.  This exercise uses a set of 64 subsets with options defined within individual json configuration files which have defined input output parameters for the EPT build.  After the build process the subsets are merged with:  `entwine merge -c merge.json` where merge.json defines the subset location."
   ]
  },
  {
   "cell_type": "code",
   "execution_count": null,
   "id": "fb932810",
   "metadata": {},
   "outputs": [],
   "source": [
    "%%bash\n",
    "cat merge.json"
   ]
  },
  {
   "cell_type": "markdown",
   "id": "6f318b9a",
   "metadata": {},
   "source": [
    "Generate json subset files for EPT development."
   ]
  },
  {
   "cell_type": "code",
   "execution_count": null,
   "id": "58880ca8",
   "metadata": {},
   "outputs": [],
   "source": [
    "!python json_gen.py -h "
   ]
  },
  {
   "cell_type": "code",
   "execution_count": null,
   "id": "1e6bfdba",
   "metadata": {},
   "outputs": [],
   "source": [
    "!python json_gen.py -i_f ../LPC_Color -o_j . -o_f ../entwine/NC_P3_2015_Coleridge_SE_rgb"
   ]
  },
  {
   "cell_type": "code",
   "execution_count": null,
   "id": "a0022e29",
   "metadata": {},
   "outputs": [],
   "source": [
    "%%bash\n",
    "cat make_subset.txt "
   ]
  },
  {
   "cell_type": "code",
   "execution_count": null,
   "id": "33b417bc-456d-449c-b661-76eaec4b836a",
   "metadata": {},
   "outputs": [],
   "source": [
    "in_file = \"make_subset.txt\""
   ]
  },
  {
   "cell_type": "code",
   "execution_count": null,
   "id": "43054e81-3d84-4b4c-8668-024e4c6ee3b3",
   "metadata": {},
   "outputs": [],
   "source": [
    "start_time = time.time()\n",
    "\n",
    "with open(in_file) as f:\n",
    "    lines = [i.rstrip() for i in f.readlines()] \n",
    "\n",
    "pool = ProcessPoolExecutor(max_workers=mp.cpu_count())\n",
    "_ = list(\n",
    "    pool.map(\n",
    "        ept_config,\n",
    "        lines\n",
    "    )\n",
    ")\n",
    "print(f\"\\n--- {time.time() - start_time} seconds ---\")"
   ]
  },
  {
   "cell_type": "markdown",
   "id": "4094ea30",
   "metadata": {},
   "source": [
    "EPT Generation\n",
    "Dataset|Computer|Tile Count|Time (Seconds)|Time (Minutes)\n",
    "---|---|---|---|---\n",
    "NC P3 2015|RDzur-Mac (M1 Max)|11,242|97246|1620.8\n",
    "NC_P3_2015_Coleridge_SE|RDzur-Mac (M1 Max)|30|320.53|5.3"
   ]
  },
  {
   "cell_type": "code",
   "execution_count": null,
   "id": "50ebdbfe",
   "metadata": {},
   "outputs": [],
   "source": [
    "!entwine merge -c merge.json"
   ]
  },
  {
   "cell_type": "markdown",
   "id": "ddae40c2",
   "metadata": {},
   "source": [
    "The following cell creates a text file of the coordinate system for the EPT point cloud with [gdalsrsinfo](https://gdal.org/programs/gdalsrsinfo.html)."
   ]
  },
  {
   "cell_type": "code",
   "execution_count": null,
   "id": "9f3cf01b",
   "metadata": {},
   "outputs": [],
   "source": [
    "# %%bash\n",
    "# gdalsrsinfo -e EPSG:6543 -o wkt_simple --single-line | sed 's/\\\"/\\\\\\\"/g' > epsg_6543.txt\n",
    "!gdalsrsinfo -e EPSG:6543 -o wkt_simple --single-line | sed 's/\\\"/\\\\\\\"/g' > epsg_6543.txt"
   ]
  },
  {
   "cell_type": "markdown",
   "id": "7fe4d00f",
   "metadata": {},
   "source": [
    "Run the following command `npm install http-server -g` at the terminal to install the `http-server` in order to view the entwine point tile file.  This procedure follows the [Entwine Quickstart Guide](https://entwine.io/en/latest/quickstart.html) instructions.  If prompted for an updated npm, it should be ok to install the update:  `npm install -g npm@10.8.3`.  Once installed, the npm install command does not need to be run again."
   ]
  },
  {
   "cell_type": "markdown",
   "id": "ff9cd3d8",
   "metadata": {},
   "source": [
    "With EPT there are a couple of options to assess the results locally, such as a localhost HTTP server.  The local server can be initiated at the terminal with the following command to start an http-server to view the local data `http-server entwine -p 8080 --cors`."
   ]
  },
  {
   "cell_type": "markdown",
   "id": "26ef3f45",
   "metadata": {},
   "source": [
    "Once the server is started, open a browser and try to view the EPT result; paste following path into the browser or click on the link:  https://potree.bhinc.com/data/view.html?r=%22http://localhost:8080/NC_P3_2015_Coleridge_SE_rgb%22"
   ]
  },
  {
   "cell_type": "markdown",
   "id": "2751bec3",
   "metadata": {},
   "source": [
    "The server can be stopped with a ^C at the terminal to interrupt the local http-server."
   ]
  },
  {
   "cell_type": "markdown",
   "id": "ed55b689",
   "metadata": {},
   "source": [
    "QGIS is another convenient option for viewing and working with EPT data through the Data Source Manager - Point Cloud, where the EPT can be loaded as a file using the ept.json within the EPT folder."
   ]
  }
 ],
 "metadata": {
  "kernelspec": {
   "display_name": "Python 3 (ipykernel)",
   "language": "python",
   "name": "python3"
  },
  "language_info": {
   "codemirror_mode": {
    "name": "ipython",
    "version": 3
   },
   "file_extension": ".py",
   "mimetype": "text/x-python",
   "name": "python",
   "nbconvert_exporter": "python",
   "pygments_lexer": "ipython3",
   "version": "3.12.5"
  }
 },
 "nbformat": 4,
 "nbformat_minor": 5
}

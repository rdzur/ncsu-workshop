{
 "cells": [
  {
   "cell_type": "markdown",
   "id": "36ec5ab5",
   "metadata": {},
   "source": [
    "# SVF Imagery Generation using RVT"
   ]
  },
  {
   "cell_type": "markdown",
   "id": "2b670163-cab4-44da-93dc-870b7b18ad81",
   "metadata": {},
   "source": [
    "**Load required libraries**"
   ]
  },
  {
   "cell_type": "code",
   "execution_count": null,
   "id": "38ab8e26",
   "metadata": {},
   "outputs": [],
   "source": [
    "import os\n",
    "import time\n",
    "import rvt.default\n",
    "import rvt.vis\n",
    "import multiprocessing as mp\n",
    "from concurrent.futures import ProcessPoolExecutor\n",
    "from itertools import repeat\n",
    "from svf_gen import *"
   ]
  },
  {
   "cell_type": "markdown",
   "id": "d3405e02",
   "metadata": {},
   "source": [
    "The next cell identifies the current working directory."
   ]
  },
  {
   "cell_type": "code",
   "execution_count": null,
   "id": "3b531e58-97b1-44bb-b5c0-6da6383c1772",
   "metadata": {},
   "outputs": [],
   "source": [
    "os.getcwd()"
   ]
  },
  {
   "cell_type": "markdown",
   "id": "b848691c",
   "metadata": {},
   "source": [
    "Create variables below for input output folders and a DEM processing listing."
   ]
  },
  {
   "cell_type": "code",
   "execution_count": null,
   "id": "9d784128-c627-46b3-b9bb-485e93cc057a",
   "metadata": {},
   "outputs": [],
   "source": [
    "in_fld = \"./OPR\"\n",
    "out_fld = \"./SVF\"\n",
    "f = os.listdir(in_fld)\n",
    "files = []\n",
    "for i in f:\n",
    "    if \".\" in i:\n",
    "        if i.split(\".\")[1] == 'tif': files.append(i)"
   ]
  },
  {
   "cell_type": "markdown",
   "id": "247bc3fe",
   "metadata": {},
   "source": [
    "The following cell generates Sky View Factor (SVF) imagery from source digital elevation model (DEM) data with the [Relief Visualization Toolbox Python library](https://github.com/EarthObservation/RVT_py/tree/master).  The processing step also deploys the [multiprocessing](https://docs.python.org/3/library/multiprocessing.html) python library in creating the SVF visualization with default values including 16 directional computation at a radius distance of 10 pixels.\n",
    "\n",
    "### SVF References\n",
    "\n",
    "- Kokalj, Ž., Somrak, M. 2019. Why Not a Single Image? Combining Visualizations to Facilitate Fieldwork and On-Screen Mapping. Remote Sensing 11(7): 747. \n",
    "- Zakšek, K., Oštir, K., Kokalj, Ž. 2011. Sky-View Factor as a Relief Visualization Technique. Remote Sensing 3: 398-415. "
   ]
  },
  {
   "cell_type": "code",
   "execution_count": null,
   "id": "1571b87a",
   "metadata": {},
   "outputs": [],
   "source": [
    "start_time = time.time()\n",
    "\n",
    "default = rvt.default.DefaultValues()\n",
    "\n",
    "if out_fld != None:\n",
    "    if not os.path.exists(out_fld):\n",
    "        os.makedirs(out_fld)\n",
    "else:\n",
    "    out_fld = \"./SVF\"\n",
    "\n",
    "pool = ProcessPoolExecutor(max_workers=mp.cpu_count())\n",
    "_ = list(\n",
    "    pool.map(\n",
    "        svf_gen,\n",
    "        files,\n",
    "        repeat(in_fld),\n",
    "        repeat(out_fld),\n",
    "        repeat(default)\n",
    "\n",
    "    )\n",
    ")\n",
    "print(f\"\\n\\n--- {time.time() - start_time} seconds ---\")"
   ]
  },
  {
   "cell_type": "markdown",
   "id": "98343a5e",
   "metadata": {},
   "source": [
    "SVF Image Generation\n",
    "Dataset|Computer|Tile Count|Time (Seconds)|Time (Minutes)\n",
    "---|---|---|---|---\n",
    "NC P3 2015|RDzur-Mac (M1 Max)|11,269|1354.44|22m 34.4s\n",
    "NC_P3_2015_Coleridge_SE|RDzur-Mac (M1 Max)|30|4.8|"
   ]
  },
  {
   "cell_type": "markdown",
   "id": "e21cda9c",
   "metadata": {},
   "source": [
    "The next cells use [gdal](https://gdal.org) to create raster mosaic for the SVF data."
   ]
  },
  {
   "cell_type": "markdown",
   "id": "bba00da5",
   "metadata": {},
   "source": [
    "Create a text listing of the output SVF data.  "
   ]
  },
  {
   "cell_type": "code",
   "execution_count": null,
   "id": "f7a95640-cd8d-44ad-9ff2-fe4cf65b42c2",
   "metadata": {},
   "outputs": [],
   "source": [
    "!find ./SVF -name '*.tif' > Reference/NC_P3_2015_TEM_Coleridge_SE_svf.txt"
   ]
  },
  {
   "cell_type": "markdown",
   "id": "f9338d93",
   "metadata": {},
   "source": [
    "Verify the text file listing."
   ]
  },
  {
   "cell_type": "code",
   "execution_count": null,
   "id": "486286dc-9644-4f2b-99df-0139075655ec",
   "metadata": {},
   "outputs": [],
   "source": [
    "!cat Reference/NC_P3_2015_TEM_Coleridge_SE_svf.txt"
   ]
  },
  {
   "cell_type": "markdown",
   "id": "1bcceda2",
   "metadata": {},
   "source": [
    "Below a spatial index of the output SVF can be created with [gdaltindex](https://gdal.org/programs/gdaltindex.html#gdaltindex) using the input text listing."
   ]
  },
  {
   "cell_type": "code",
   "execution_count": null,
   "id": "c0668c70-d281-4fae-801d-5a8ecc3d088d",
   "metadata": {},
   "outputs": [],
   "source": [
    "!gdaltindex Reference/NC_P3_2015_TEM_Coleridge_SE_svf.shp --optfile Reference/NC_P3_2015_TEM_Coleridge_SE_svf.txt "
   ]
  },
  {
   "cell_type": "markdown",
   "id": "8f06a24b",
   "metadata": {},
   "source": [
    "The input text listing can also be used as input to develop raster virtual datasets with [gdalbuildvrt](https://gdal.org/programs/gdalbuildvrt.html#gdalbuildvrt)."
   ]
  },
  {
   "cell_type": "code",
   "execution_count": null,
   "id": "a4191348-1241-4ed1-a0dc-b323537db5f3",
   "metadata": {},
   "outputs": [],
   "source": [
    "!gdalbuildvrt Reference/NC_P3_2015_TEM_Coleridge_SE_svf.vrt -input_file_list Reference/NC_P3_2015_TEM_Coleridge_SE_svf.txt"
   ]
  },
  {
   "cell_type": "markdown",
   "id": "f0cdf42c",
   "metadata": {},
   "source": [
    "A physical GeoTIFF (Cloud Optimized - [COG](https://gdal.org/drivers/raster/cog.html#raster-cog)) can be generated for display with [gdalwarp](https://gdal.org/programs/gdalwarp.html) in about ~30 seconds for SVF."
   ]
  },
  {
   "cell_type": "code",
   "execution_count": null,
   "id": "d6fab60a-89fc-4bd9-a048-80a22c8d9c36",
   "metadata": {},
   "outputs": [],
   "source": [
    "# %%bash\n",
    "# START=$(date +%s);\n",
    "# sleep 1; \n",
    "# echo $START\n",
    "# gdalwarp Reference/NC_P3_2015_TEM_Coleridge_SE_svf.vrt Reference/NC_P3_2015_TEM_Coleridge_SE_svf.tif -of COG -co COMPRESS=LZW -co PREDICTOR=YES -co BLOCKSIZE=128 -co RESAMPLING=CUBIC -co OVERVIEW_PREDICTOR=YES -co OVERVIEW_COUNT=10 -co OVERVIEWS=IGNORE_EXISTING -co BIGTIFF=YES -co ADD_ALPHA=YES -overwrite\n",
    "# END=$(date +%s);\n",
    "# echo ----- $((END-START)) seconds -----\n",
    "\n",
    "!gdalwarp Reference/NC_P3_2015_TEM_Coleridge_SE_svf.vrt Reference/NC_P3_2015_TEM_Coleridge_SE_svf.tif -of COG -co COMPRESS=LZW -co PREDICTOR=YES -co BLOCKSIZE=128 -co RESAMPLING=CUBIC -co OVERVIEW_PREDICTOR=YES -co OVERVIEW_COUNT=10 -co OVERVIEWS=IGNORE_EXISTING -co BIGTIFF=YES -co ADD_ALPHA=YES -overwrite"
   ]
  }
 ],
 "metadata": {
  "kernelspec": {
   "display_name": "ncsu-tem",
   "language": "python",
   "name": "python3"
  },
  "language_info": {
   "codemirror_mode": {
    "name": "ipython",
    "version": 3
   },
   "file_extension": ".py",
   "mimetype": "text/x-python",
   "name": "python",
   "nbconvert_exporter": "python",
   "pygments_lexer": "ipython3",
   "version": "3.12.5"
  }
 },
 "nbformat": 4,
 "nbformat_minor": 5
}

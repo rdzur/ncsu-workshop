{
 "cells": [
  {
   "cell_type": "markdown",
   "id": "234f3515-789e-40c3-85aa-42fb93222929",
   "metadata": {},
   "source": [
    "# Model Predictions and Experimentation"
   ]
  },
  {
   "cell_type": "code",
   "execution_count": 1,
   "id": "95ba0434-7a65-41f5-ad36-82266e0456ea",
   "metadata": {},
   "outputs": [],
   "source": [
    "import os\n",
    "import numpy as np\n",
    "# from roboflow import Roboflow\n",
    "from ultralytics import YOLO\n",
    "import torch\n",
    "import geopandas as gpd\n",
    "from shapely.geometry import Polygon\n",
    "import matplotlib.pyplot as plt\n",
    "import pandas as pd\n",
    "from PIL import Image\n",
    "# from split_images import *\n",
    "import rasterio as rio\n",
    "import glob\n",
    "from osgeo import gdal\n",
    "import time"
   ]
  },
  {
   "cell_type": "markdown",
   "id": "3770bc90-c4f6-412c-acff-d512cd3ac5e5",
   "metadata": {},
   "source": [
    "## Conducting inference / predictions on North Carolina Phase 3 SVF with Best SVF Model trained in New Mexico"
   ]
  },
  {
   "cell_type": "markdown",
   "id": "bc46bb6a",
   "metadata": {},
   "source": [
    "A quick check of the current working directory below."
   ]
  },
  {
   "cell_type": "code",
   "execution_count": 2,
   "id": "16a32f39-6f71-4ee7-8bdb-5e2a8e8467a3",
   "metadata": {},
   "outputs": [
    {
     "data": {
      "text/plain": [
       "'/Users/rdzur/Documents/TEM/NC_P3_2015_Coleridge_SE'"
      ]
     },
     "execution_count": 2,
     "metadata": {},
     "output_type": "execute_result"
    }
   ],
   "source": [
    "os.getcwd()"
   ]
  },
  {
   "cell_type": "markdown",
   "id": "a66ddfa0",
   "metadata": {},
   "source": [
    "Set the parameters for the model location on the filesystem, the source input images for running predictions.  Since this inference task is GPU intensive, the device setting is also important depending on the hardware platform, here, device='mps', refers to [Metal Performance Shaders framework](https://developer.apple.com/documentation/metalperformanceshaders) on Apple Silicon GPU systems. For other systems, modify the device settings to device='0,1', for example. The project parameter establishes where the detection results are saved."
   ]
  },
  {
   "cell_type": "code",
   "execution_count": 3,
   "id": "e4c00e81-dbb1-4a06-835c-426470859375",
   "metadata": {},
   "outputs": [],
   "source": [
    "model = YOLO(\"models/svf_best.pt\")\n",
    "results_prj = model.predict(source=\"SVF_2x2_Multiprocess\",conf=0.5,stream=True,save=True,verbose=False,device='mps',project=\"runs/detect\")"
   ]
  },
  {
   "cell_type": "markdown",
   "id": "85a53029",
   "metadata": {},
   "source": [
    "The code below verifies mps support.  See [Accelerated PyTorch training on Mac](https://developer.apple.com/metal/pytorch/).  \n"
   ]
  },
  {
   "cell_type": "code",
   "execution_count": 4,
   "id": "4833830a",
   "metadata": {},
   "outputs": [
    {
     "name": "stdout",
     "output_type": "stream",
     "text": [
      "tensor([1.], device='mps:0')\n"
     ]
    }
   ],
   "source": [
    "import torch\n",
    "if torch.backends.mps.is_available():\n",
    "    mps_device = torch.device(\"mps\")\n",
    "    x = torch.ones(1, device=mps_device)\n",
    "    print (x)\n",
    "else:\n",
    "    print (\"MPS device not found.\")"
   ]
  },
  {
   "cell_type": "markdown",
   "id": "cd9bc3d7",
   "metadata": {},
   "source": [
    "The cell below runs the building error/issue predictions and takes as input the 2x2 retiled SVF images, set below in the path variable.  The object detection labeled boxes are recorded.  "
   ]
  },
  {
   "cell_type": "code",
   "execution_count": 5,
   "id": "94d2a92d-7220-497e-b7df-2fbb28c01a1b",
   "metadata": {
    "scrolled": true
   },
   "outputs": [
    {
     "name": "stdout",
     "output_type": "stream",
     "text": [
      "Results saved to \u001b[1mruns/detect/predict\u001b[0m\n",
      "\n",
      "\n",
      "--- 12.735567808151245 seconds ---\n"
     ]
    }
   ],
   "source": [
    "start_time = time.time()\n",
    "\n",
    "cls_vals = {\"0\":\"BLD_class_error\"} #Build a dictionary using the data.yaml where the keys start from zero and values are the class name\n",
    "geom = []\n",
    "cls = []\n",
    "conf = []\n",
    "files = []\n",
    "path = f\"{os.getcwd()}/SVF_2x2_Multiprocess\"\n",
    "img_files = sorted(os.listdir(path))\n",
    "for result,file in zip(results_prj,img_files):\n",
    "    boxes = result.boxes\n",
    "    with rio.open(f\"{path}/{file}\") as raster:   \n",
    "        for box in boxes:\n",
    "            xmin,ymin,xmax,ymax = box.xyxy[0]\n",
    "            xmin,ymin,xmax,ymax = float(xmin),float(ymin),float(xmax),float(ymax)\n",
    "            \n",
    "            x1,y1 = rio.transform.xy(raster.transform,ymin,xmin)\n",
    "            x1,y2 = rio.transform.xy(raster.transform,ymax,xmin)\n",
    "            x2,y2 = rio.transform.xy(raster.transform,ymax,xmax)\n",
    "            x2,y1 = rio.transform.xy(raster.transform,ymin,xmax)\n",
    "\n",
    "            geom.append(Polygon([(x1,y1),(x1,y2),(x2,y2),(x2,y1)]))\n",
    "            cls.append(cls_vals[str(int(box.cls[0]))])\n",
    "            conf.append(float(box.conf))\n",
    "            files.append(file.split(\".\")[0])\n",
    "\n",
    "print(f\"\\n\\n--- {time.time() - start_time} seconds ---\")"
   ]
  },
  {
   "cell_type": "markdown",
   "id": "d1c6a7aa",
   "metadata": {},
   "source": [
    "After running the YOLO building prediction model above, saved predictions are converted below to an output geospatial polygon format with coordinate reference information and saved an output folder and filename with can be modified as needed below."
   ]
  },
  {
   "cell_type": "code",
   "execution_count": 6,
   "id": "5281b070-1ec8-4de9-8ea4-26c4ed885b69",
   "metadata": {},
   "outputs": [],
   "source": [
    "gdf = gpd.GeoDataFrame({\"geometry\":geom, \"conf\":conf, \"class\":cls, \"file\":files},crs=\"EPSG:6543\")\n",
    "gdf.to_file(\"Geopredictions/building_issue_NC_P3_TEM_Coleridge_SE_SVF_NM_model.shp\",driver=\"ESRI Shapefile\")"
   ]
  },
  {
   "cell_type": "markdown",
   "id": "189e4387",
   "metadata": {},
   "source": [
    "The output polygon records prediction attribution such as:\n",
    "\n",
    "- confidence,\n",
    "- class, and\n",
    "- file"
   ]
  },
  {
   "cell_type": "markdown",
   "id": "fd493b40",
   "metadata": {},
   "source": [
    "The prediction can be reviewed in the runs/detection folder to view the SVF image with annotation: D03_37_10864903_20160228_SVF_R10_D16_8bit_1.tif "
   ]
  }
 ],
 "metadata": {
  "kernelspec": {
   "display_name": "Python 3 (ipykernel)",
   "language": "python",
   "name": "python3"
  },
  "language_info": {
   "codemirror_mode": {
    "name": "ipython",
    "version": 3
   },
   "file_extension": ".py",
   "mimetype": "text/x-python",
   "name": "python",
   "nbconvert_exporter": "python",
   "pygments_lexer": "ipython3",
   "version": "3.12.5"
  }
 },
 "nbformat": 4,
 "nbformat_minor": 5
}

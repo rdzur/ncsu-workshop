{
 "cells": [
  {
   "cell_type": "markdown",
   "id": "784aa623-1b1b-4141-84b0-2320c9ffefcc",
   "metadata": {},
   "source": [
    "# GRASS GIS LiDAR Derived Hydrography Flowlines\n",
    "\n",
    "This notebook prototypes development of LiDAR elevation derived flow path data in [GRASS GIS]( https://grass.osgeo.org)."
   ]
  },
  {
   "cell_type": "markdown",
   "id": "9841de7c-5000-4c0d-92f6-e10c6e3dce3a",
   "metadata": {},
   "source": [
    "## Install GRASS GIS"
   ]
  },
  {
   "cell_type": "markdown",
   "id": "513ce399-ceaa-4927-b1ab-dd8dad47cc41",
   "metadata": {},
   "source": [
    "Run this notebook within the GRASS GIS environment.  If GRASS is not currently installed download from: [https://grass.osgeo.org/download/](https://grass.osgeo.org/download/)."
   ]
  },
  {
   "cell_type": "markdown",
   "id": "7dc0fc69-7dcb-4d5f-8635-63742bf8fe0d",
   "metadata": {},
   "source": [
    "## Checking the python environment"
   ]
  },
  {
   "cell_type": "code",
   "execution_count": null,
   "id": "09d509cb-565d-47ca-9f95-50daa988b4c8",
   "metadata": {},
   "outputs": [],
   "source": [
    "import sys\n",
    "print (sys.version)"
   ]
  },
  {
   "cell_type": "markdown",
   "id": "f1f1e7d8-c186-474b-98c7-c9f5498ad4cd",
   "metadata": {},
   "source": [
    "## Checking the file path"
   ]
  },
  {
   "cell_type": "markdown",
   "id": "728f35b6",
   "metadata": {},
   "source": [
    "Recall this check from notebook No. 1."
   ]
  },
  {
   "cell_type": "code",
   "execution_count": null,
   "id": "4d7ef513-ed15-48b6-aef6-0c2ad049c0ad",
   "metadata": {},
   "outputs": [],
   "source": [
    "%%bash\n",
    "pwd"
   ]
  },
  {
   "cell_type": "code",
   "execution_count": null,
   "id": "58333d45-ecc9-4054-b9c9-b0d04ed4bcb6",
   "metadata": {},
   "outputs": [],
   "source": [
    "!pwd"
   ]
  },
  {
   "cell_type": "code",
   "execution_count": null,
   "id": "d3e47ad1",
   "metadata": {},
   "outputs": [],
   "source": [
    "!echo %cd%"
   ]
  },
  {
   "cell_type": "markdown",
   "id": "b69bbb2c-1f38-4787-9bdd-8636120cafbd",
   "metadata": {},
   "source": [
    "## Create a new GRASS GIS Project"
   ]
  },
  {
   "cell_type": "markdown",
   "id": "78607e6b-0bf3-462a-98ab-5fd8d55492cd",
   "metadata": {},
   "source": [
    "Creating a new [GRASS GIS]( https://grass.osgeo.org) project.  For LiDAR derived hydrography the project will be conducted in the same Coordinate Reference System (CRS) of the LiDAR based digital elevation model (DEM) downloaded in the original product resolution (OPR) folder.  Flow path analysis may be developed from pre-existing DEMs or DEMs generated from point cloud data."
   ]
  },
  {
   "cell_type": "markdown",
   "id": "2ed82d0b",
   "metadata": {},
   "source": [
    "The `ls` command provides a directory listing at the present working directory (pwd). At the beginning of many of the code cells below, there are commented bash lines.  These have been substituted with python lines to emulate the corresponding bash functions.  On macOS the commenting could be swapped and run if desired.  In some instances where there are inherent Windows calls, for example to the GRASS .bat executable, the commenting should be swapped in order to successfully run those unique cells on macOS."
   ]
  },
  {
   "cell_type": "code",
   "execution_count": null,
   "id": "59420b2d",
   "metadata": {},
   "outputs": [],
   "source": [
    "# !ls \n",
    "\n",
    "import os\n",
    "\n",
    "def ls (directory):\n",
    "    try:\n",
    "        # List the contents of the current directory\n",
    "        directory_contents = os.listdir(directory)\n",
    "        \n",
    "        # Print each item in the directory\n",
    "        for item in directory_contents:\n",
    "            print(item)\n",
    "    except Exception as e:\n",
    "        print(f\"An error occurred: {e}\")"
   ]
  },
  {
   "cell_type": "code",
   "execution_count": null,
   "id": "37e433a9-5b89-41e4-bd40-a70088b7992c",
   "metadata": {},
   "outputs": [],
   "source": [
    "ls('.') # List the contents of the current directory"
   ]
  },
  {
   "cell_type": "markdown",
   "id": "1cfc2af0-0793-42bb-a34f-41cb24c14d96",
   "metadata": {},
   "source": [
    "Next, double check the CRS of the DEM data to ensure consistent setup of the GRASS project using the same (CRS)."
   ]
  },
  {
   "cell_type": "code",
   "execution_count": null,
   "id": "2d7a35dd-6c0c-4b0b-bea8-5226069f29df",
   "metadata": {},
   "outputs": [],
   "source": [
    "# !ls ./OPR/*.tif\n",
    "\n",
    "ls('./OPR')"
   ]
  },
  {
   "cell_type": "markdown",
   "id": "5e92507f-c058-4967-ab06-7d7e564782ce",
   "metadata": {},
   "source": [
    "Selecting one of the GeoTIFF files, read the coordinate system with [gdalinfo](https://gdal.org/programs/gdalinfo.html#gdalinfo)."
   ]
  },
  {
   "cell_type": "code",
   "execution_count": null,
   "id": "9f02f3c4-89e6-43db-bbaf-8c29ac483e43",
   "metadata": {},
   "outputs": [],
   "source": [
    "# %%bash\n",
    "# gdalinfo ./OPR/D03_37_10875003_20160228.tif\n",
    "!gdalinfo ./OPR/D03_37_10875003_20160228.tif"
   ]
  },
  {
   "cell_type": "markdown",
   "id": "c5274495-f172-4898-aa3a-66065f65ccff",
   "metadata": {},
   "source": [
    "Based on the above output, the command below will create (with the -`c` flag) a GRASS GIS project in North Carolina State Plane projection with US Survey Foot (USFT) units using the corresponding code: [EPSG:6543](https://epsg.org/crs_6543/NAD83-2011-North-Carolina-ftUS.html).  The following GRASS GIS command builds the empty GRASS project at the local home directory path (and exits with the -`e` flag).  \n",
    "\n",
    "For operating systems other than Windows, swap the commenting to create the GRASS GIS project."
   ]
  },
  {
   "cell_type": "code",
   "execution_count": null,
   "id": "9ae28928",
   "metadata": {},
   "outputs": [],
   "source": [
    "# %%bash\n",
    "# grass -c EPSG:6543 -e ~/grassdata/GRASS_6543/\n",
    "# !grass -c EPSG:6543 -e ~/grassdata/GRASS_6543/\n",
    "!\"C:\\Program Files\\GRASS GIS 8.4\\grass84.bat\" -c EPSG:6543 -e \"%USERPROFILE%\\grassdata\\GRASS_6543\""
   ]
  },
  {
   "cell_type": "code",
   "execution_count": null,
   "id": "414264b1-87b8-4aba-b202-9cde8f5039e3",
   "metadata": {},
   "outputs": [],
   "source": [
    "# %%bash\n",
    "# grass -c EPSG:6543 -e ~/grassdata/GRASS_6543/\n",
    "# !grass -c EPSG:6543 -e ~/grassdata/GRASS_6543/\n",
    "# !\"C:\\Program Files\\GRASS GIS 8.4\\grass84.bat\" -c EPSG:6543 -e ~/grassdata/GRASS_6543/\n",
    "# !\"C:\\Program Files\\GRASS GIS 8.4\\grass84.bat\" --version \n",
    "# !\"C:\\Program Files\\GRASS GIS 8.4\\grass84.bat\" -c EPSG:6543 -e ./grassdata/GRASS_6543/ --verbose\n",
    "# import os\n",
    "# # import grass_session\n",
    "# import grass.script as gs\n",
    "# import grass.jupyter as gj\n",
    "\n",
    "# # Get the user's home directory in a cross-platform way\n",
    "# home = os.path.expanduser(\"~\")\n",
    "\n",
    "# # Construct the path\n",
    "# grass_data_path = os.path.join(home, \"grassdata\", \"GRASS_6543\")\n",
    "\n",
    "# # Ensure the directory exists\n",
    "# os.makedirs(grass_data_path, exist_ok=True)\n",
    "\n",
    "# # Initialize GRASS session\n",
    "# grass_session.Session()\n",
    "# session = gj.init(grass_data_path, \"PERMANENT\")\n",
    "\n",
    "# # Print region info to confirm initialization\n",
    "# print(gs.read_command(\"g.region\", flags=\"p\"))\n",
    "\n",
    "\n",
    "import os\n",
    "import grass.script as gs\n",
    "import grass.jupyter as gj\n",
    "\n",
    "# Get the user's home directory in a cross-platform way\n",
    "home = os.path.expanduser(\"~\")\n",
    "\n",
    "# Construct the path to the GRASS database\n",
    "grass_data_path = os.path.join(home, \"grassdata\")\n",
    "\n",
    "# Location name\n",
    "location = \"GRASS_6543\"\n",
    "\n",
    "# Mapset name\n",
    "mapset = \"PERMANENT\"\n",
    "\n",
    "# Initialize GRASS session\n",
    "try:\n",
    "    session = gj.init(grass_data_path, location, mapset)\n",
    "    print(\"Session initialized successfully\")\n",
    "    \n",
    "    # Print GRASS environment info\n",
    "    print(\"\\nGRASS environment:\")\n",
    "    print(gs.gisenv())\n",
    "    \n",
    "    # Print region info\n",
    "    print(\"\\nRegion info:\")\n",
    "    print(gs.read_command(\"g.region\", flags=\"p\"))\n",
    "except Exception as e:\n",
    "    print(f\"Error initializing GRASS session: {e}\")\n",
    "    \n",
    "    # Additional error information\n",
    "    print(\"\\nCurrent working directory:\", os.getcwd())\n",
    "    print(\"GRASS_DATA_PATH:\", grass_data_path)\n",
    "    print(\"Location:\", location)\n",
    "    print(\"Mapset:\", mapset)"
   ]
  },
  {
   "cell_type": "markdown",
   "id": "499724a2-419c-441f-8bcb-d5403697116f",
   "metadata": {},
   "source": [
    "Information about running GRASS GIS in jupyter notebooks is available at the following [link](https://grass.osgeo.org/grass83/manuals/libpython/index.html).  The next cell will initiate the GRASS GIS project just created and import required libraries."
   ]
  },
  {
   "cell_type": "markdown",
   "id": "43fc355c-3345-41ee-943d-84bcf64f628c",
   "metadata": {},
   "source": [
    "Check the current GRASS GIS environment and list the mapset, database, location and projection information.  "
   ]
  },
  {
   "cell_type": "code",
   "execution_count": null,
   "id": "1c58e058-bac7-4332-854e-4ce4875ed9d6",
   "metadata": {},
   "outputs": [],
   "source": [
    "# %%bash\n",
    "# g.gisenv\n",
    "# g.proj -p\n",
    "\n",
    "!g.gisenv\n",
    "!g.proj -p"
   ]
  },
  {
   "cell_type": "markdown",
   "id": "3bf3ab9b",
   "metadata": {},
   "source": [
    "## Import / Create LiDAR DEM data"
   ]
  },
  {
   "cell_type": "markdown",
   "id": "ab8d3b90-a476-4ccc-b36f-3478805f544c",
   "metadata": {},
   "source": [
    "Data (DEM / LiDAR) for this exercise is available at the NOAA Digital Coast bulk download site:  \n",
    "\n",
    "- DEM:  [https://chs.coast.noaa.gov/htdata/raster2/elevation/NorthCarolina_DEM_2015P3_6205/](https://chs.coast.noaa.gov/htdata/raster2/elevation/NorthCarolina_DEM_2015P3_6205/)\n",
    "- LiDAR:  [https://noaa-nos-coastal-lidar-pds.s3.amazonaws.com/laz/geoid18/6209/index.html](https://noaa-nos-coastal-lidar-pds.s3.amazonaws.com/laz/geoid18/6209/index.html)\n",
    "\n",
    "Import the DEM with GRASS GIS [r.import](https://grass.osgeo.org/grass84/manuals/r.import.html)."
   ]
  },
  {
   "cell_type": "code",
   "execution_count": null,
   "id": "1b7698ab-3b32-462e-8e5e-dedcb71375fb",
   "metadata": {},
   "outputs": [],
   "source": [
    "!r.import in=Reference/NC_P3_2015_TEM_Coleridge_SE_opr.tif out=NC_P3_2015_TEM_Coleridge_SE_opr --overwrite"
   ]
  },
  {
   "cell_type": "code",
   "execution_count": null,
   "id": "f1589a52-2990-4a06-b923-2a9f98c71115",
   "metadata": {},
   "outputs": [],
   "source": [
    "import grass.script as gs\n",
    "\n",
    "# List raster maps to check if NC_P3_2015_TEM_Coleridge_SE_opr is present\n",
    "print(\"Raster maps:\")\n",
    "print(gs.list_strings(type='raster'))\n",
    "\n",
    "# Get information about the imported raster\n",
    "print(\"\\nRaster info:\")\n",
    "print(gs.raster_info('NC_P3_2015_TEM_Coleridge_SE_opr'))\n",
    "\n",
    "# Set region to the imported raster and print region info\n",
    "gs.run_command('g.region', raster='NC_P3_2015_TEM_Coleridge_SE_opr')\n",
    "print(\"\\nRegion info:\")\n",
    "print(gs.read_command('g.region', flags='p'))"
   ]
  },
  {
   "cell_type": "markdown",
   "id": "9a81683c",
   "metadata": {},
   "source": [
    "The GRASS GIS command [g.list](https://grass.osgeo.org/grass84/manuals/g.list.html) can list available maps.  It may be necessary to interrupt the cell."
   ]
  },
  {
   "cell_type": "code",
   "execution_count": null,
   "id": "d7fa0b46-d65b-4750-b543-011c8507ca5b",
   "metadata": {},
   "outputs": [],
   "source": [
    "!g.list rast "
   ]
  },
  {
   "cell_type": "markdown",
   "id": "cb8803fe",
   "metadata": {},
   "source": [
    "The next cell sets the GRASS GIS [computational region](https://grasswiki.osgeo.org/wiki/Computational_region) to the imported raster dimensions."
   ]
  },
  {
   "cell_type": "code",
   "execution_count": null,
   "id": "1e221a84-352d-4630-85c1-41741a72b0bc",
   "metadata": {},
   "outputs": [],
   "source": [
    "!g.region -p rast=NC_P3_2015_TEM_Coleridge_SE_opr"
   ]
  },
  {
   "cell_type": "markdown",
   "id": "73b6ec57",
   "metadata": {},
   "source": [
    "For visual feedback, the next cell displays the imported map."
   ]
  },
  {
   "cell_type": "code",
   "execution_count": null,
   "id": "05e3a03a-2a7a-4e68-b949-3edb63015d93",
   "metadata": {},
   "outputs": [],
   "source": [
    "# Define Grass Jupyter Map \n",
    "NC_P3_2015_TEM_opr_map = gj.Map()\n",
    "# Add raster data and legend to the map\n",
    "NC_P3_2015_TEM_opr_map.d_rast(map=\"NC_P3_2015_TEM_Coleridge_SE_opr\")\n",
    "NC_P3_2015_TEM_opr_map.d_legend(raster=\"NC_P3_2015_TEM_Coleridge_SE_opr\", color=\"red\")\n",
    "# Display the map\n",
    "NC_P3_2015_TEM_opr_map.show()"
   ]
  },
  {
   "cell_type": "markdown",
   "id": "811a9e7e",
   "metadata": {},
   "source": [
    "## Map Unit Analysis"
   ]
  },
  {
   "cell_type": "markdown",
   "id": "8c759f9f-a301-4dca-926e-a47fffd87d7b",
   "metadata": {},
   "source": [
    "On USGS QL2-based projects, BHI traditional data processing mode is to conduct analysis at the USGS 7.5 minute quadrangle series level.  In this exercise, the 3.75 minute quarter quadrangle series is utilized as the atomic unit for processing and import a vector cell map for this TEM area of interest (AOI)."
   ]
  },
  {
   "cell_type": "code",
   "execution_count": null,
   "id": "76d0e6cd-8267-4033-ade4-890ffda967a5",
   "metadata": {},
   "outputs": [],
   "source": [
    "!v.import in=Reference/cellgrid_3_75minute_tem.gpkg out=cellgrid_3_75minute_tem"
   ]
  },
  {
   "cell_type": "code",
   "execution_count": null,
   "id": "1d233d7c-28b0-4ba8-be5e-57a1b0aa537d",
   "metadata": {},
   "outputs": [],
   "source": [
    "# Define Grass Jupyter Map \n",
    "NC_P3_2015_TEM_opr_map = gj.Map()\n",
    "# Add raster data and legend to the map\n",
    "NC_P3_2015_TEM_opr_map.d_rast(map=\"NC_P3_2015_TEM_Coleridge_SE_opr\")\n",
    "NC_P3_2015_TEM_opr_map.d_legend(raster=\"NC_P3_2015_TEM_Coleridge_SE_opr\", color=\"red\")\n",
    "NC_P3_2015_TEM_opr_map.d_vect(map=\"cellgrid_3_75minute_tem\", fill=\"none\", attribute_column=\"CELL_NAME\", xref=\"center\", label_size=12)\n",
    "# Display the map\n",
    "NC_P3_2015_TEM_opr_map.show()"
   ]
  },
  {
   "cell_type": "markdown",
   "id": "157cfdc6-ce20-40d8-bfc8-94a9590ecef7",
   "metadata": {},
   "source": [
    "List the cellgrid vector table columns with [db.columns](https://grass.osgeo.org/grass84/manuals/db.columns.html) and [v.db.select](https://grass.osgeo.org/grass84/manuals/v.db.select.html)."
   ]
  },
  {
   "cell_type": "code",
   "execution_count": null,
   "id": "1cb26bcb-96f5-4e5f-8a7d-cc4d4f619db8",
   "metadata": {},
   "outputs": [],
   "source": [
    "!db.columns table=cellgrid_3_75minute_tem"
   ]
  },
  {
   "cell_type": "code",
   "execution_count": null,
   "id": "27d7df48-b562-48a6-b048-8bcc79b4ae7f",
   "metadata": {},
   "outputs": [],
   "source": [
    "# !v.db.select map=cellgrid_3_75minute_tem column=CELL_NAME | tail -n +2 | sed 's/ /_/g'\n",
    "\n",
    "import grass.script as gs\n",
    "import re\n",
    "\n",
    "def process_cell_names():\n",
    "    # Get the data from v.db.select\n",
    "    data = gs.read_command('v.db.select', map='cellgrid_3_75minute_tem', columns='CELL_NAME')\n",
    "    \n",
    "    # Split the output into lines\n",
    "    lines = data.strip().split('\\n')\n",
    "    \n",
    "    # Skip the header (first line)\n",
    "    lines = lines[1:]\n",
    "    \n",
    "    # Replace spaces with underscores and remove trailing underscores\n",
    "    processed_lines = [re.sub(r'\\s+', '_', line).rstrip('_') for line in lines]\n",
    "    \n",
    "    return processed_lines"
   ]
  },
  {
   "cell_type": "markdown",
   "id": "cd9fe266-e686-4d48-9328-389f60b66a9f",
   "metadata": {},
   "source": [
    "Output the above command as a file list."
   ]
  },
  {
   "cell_type": "code",
   "execution_count": null,
   "id": "be2188b9-4cb2-406e-bb77-9e21a32d1464",
   "metadata": {},
   "outputs": [],
   "source": [
    "# !v.db.select map=cellgrid_3_75minute_tem column=CELL_NAME | tail -n +2 | sed 's/ /_/g' > Reference/CellGrid_3_75Minute_TEM.txt\n",
    "\n",
    "# Set the output file path\n",
    "output_file = os.path.join('Reference', 'CellGrid_3_75Minute_TEM.txt')\n",
    "result = process_cell_names()\n",
    "\n",
    "# Write to file\n",
    "with open(output_file, 'w') as f:\n",
    "    for line in result:\n",
    "        f.write(line + '\\n')\n",
    "\n",
    "print(f\"Data has been written to {output_file}\")"
   ]
  },
  {
   "cell_type": "code",
   "execution_count": null,
   "id": "6c25ac39-7f95-4064-88b4-73fe16298c32",
   "metadata": {},
   "outputs": [],
   "source": [
    "# !cat Reference/CellGrid_3_75Minute_TEM.txt\n",
    "\n",
    "with open(output_file, 'r') as f:\n",
    "    for line in f:\n",
    "        print(line)"
   ]
  },
  {
   "cell_type": "markdown",
   "id": "c35c1580-2107-4ba0-ae1c-99e00ec1e6fc",
   "metadata": {},
   "source": [
    "Extract 3.75 minute quadrangle units for processing with a shell script.  The analog python script is also provided for Windows interoperability."
   ]
  },
  {
   "cell_type": "code",
   "execution_count": null,
   "id": "aa234076",
   "metadata": {},
   "outputs": [],
   "source": [
    "# !sh ./make_quad_extract.sh\n",
    "!python make_quad_extract.py"
   ]
  },
  {
   "cell_type": "markdown",
   "id": "3c9f6888",
   "metadata": {},
   "source": [
    "Again, [g.list](https://grass.osgeo.org/grass84/manuals/g.list.html) can list available vector maps in the following case."
   ]
  },
  {
   "cell_type": "code",
   "execution_count": null,
   "id": "81c2ea33-9d96-4977-bfa2-bec2dc011cd8",
   "metadata": {},
   "outputs": [],
   "source": [
    "!g.list vect"
   ]
  },
  {
   "cell_type": "markdown",
   "id": "6396f20d-63d2-49f0-8fd6-ead9298197dc",
   "metadata": {},
   "source": [
    "Individual steps follow in the next cells to demonstrate processing using the Coleridge SE 3.75 minute unit, starting with setting the region with [g.region](https://grass.osgeo.org/grass84/manuals/g.region.html)."
   ]
  },
  {
   "cell_type": "code",
   "execution_count": null,
   "id": "80126358-885c-4b8f-9031-a00ddaf47dc5",
   "metadata": {},
   "outputs": [],
   "source": [
    "!g.region -pa res=3.125 vect=Coleridge_SE_Mask"
   ]
  },
  {
   "cell_type": "markdown",
   "id": "0a6a7872-caa0-425c-8c75-c1a534766be6",
   "metadata": {},
   "source": [
    "In traditional BHI flow line processing, the region has normally been extended (by 3600 feet) to ensure consistent map boundary edge matching.  For this exercise, given limited DEM coverage, unit boundary analysis regions will be extended by 600 feet at the native resolution of the DEM data -- 3.125 feet.  Traditional processing for QL2 has normally operated at 2 foot pixel resolution and for QL1 at 1 foot pixel resolution."
   ]
  },
  {
   "cell_type": "code",
   "execution_count": null,
   "id": "3b7cc8b4-33cd-4eac-98a7-27b930bf7b95",
   "metadata": {},
   "outputs": [],
   "source": [
    "!g.region -p -a n=n+600 s=s-600 w=w-600 e=e+600"
   ]
  },
  {
   "cell_type": "markdown",
   "id": "575e6ebf",
   "metadata": {},
   "source": [
    "## Hydro Flow Line Processing."
   ]
  },
  {
   "cell_type": "code",
   "execution_count": null,
   "id": "bb067af2-a42a-40eb-bb20-aa08553c36af",
   "metadata": {},
   "outputs": [],
   "source": [
    "!r.watershed --overwrite elevation=NC_P3_2015_TEM_Coleridge_SE_opr accumulation=Coleridge_SE_ACC"
   ]
  },
  {
   "cell_type": "markdown",
   "id": "640a9d72-8245-4cc8-a066-899b9cc5a1c5",
   "metadata": {},
   "source": [
    "In the next cell the computational region is reduced by 100 feet. "
   ]
  },
  {
   "cell_type": "code",
   "execution_count": null,
   "id": "2389d315-d48e-4ffa-958a-9ddbafcc020b",
   "metadata": {},
   "outputs": [],
   "source": [
    "!g.region -p -a n=n-100 s=s+100 w=w+100 e=e-100"
   ]
  },
  {
   "cell_type": "markdown",
   "id": "2da77aac",
   "metadata": {},
   "source": [
    "The flow accumulation raster is output in the next cell with [r.out.gdal](https://grass.osgeo.org/grass84/manuals/r.out.gdal.html) and can be loaded and visualized in other GIS packages such as QGIS."
   ]
  },
  {
   "cell_type": "code",
   "execution_count": null,
   "id": "d46f20f2-9142-4ea8-ad10-608f9fc3c2ad",
   "metadata": {},
   "outputs": [],
   "source": [
    "!r.out.gdal -f --overwrite input=Coleridge_SE_ACC output=Reference/Coleridge_SE_ACC.tif format=GTiff type=Float64 createopt=COMPRESS=LZW,PREDICTOR=3,TILED=YES,BLOCKXSIZE=128,BLOCKYSIZE=128,BIGTIFF=YES overviews=5"
   ]
  },
  {
   "cell_type": "markdown",
   "id": "d851f813",
   "metadata": {},
   "source": [
    "The flow line network is then extracted with [r.stream.extract](https://grass.osgeo.org/grass84/manuals/r.stream.extract.html); note the threshold value."
   ]
  },
  {
   "cell_type": "code",
   "execution_count": null,
   "id": "92fec5ac-77de-4c4e-8327-50bbab7a4e6b",
   "metadata": {},
   "outputs": [],
   "source": [
    "!r.stream.extract elevation=\"NC_P3_2015_TEM_Coleridge_SE_opr\" accumulation=Coleridge_SE_ACC direction=Coleridge_SE_Direction threshold=1000 stream_rast=Coleridge_SE_Stream --overwrite"
   ]
  },
  {
   "cell_type": "markdown",
   "id": "d863c9f8-e303-4051-b4cc-7aefdd4c75b1",
   "metadata": {},
   "source": [
    "The next cells add stream ordering with the GRASS GIS Add-on [r.stream.order](https://grass.osgeo.org/grass84/manuals/addons/r.stream.order.html)."
   ]
  },
  {
   "cell_type": "markdown",
   "id": "d4381c09-5646-4078-8e0f-377190d116a4",
   "metadata": {},
   "source": [
    "Install the Add-on."
   ]
  },
  {
   "cell_type": "code",
   "execution_count": null,
   "id": "bd15c31a-532c-4f9d-befc-e9b1b0bbb37c",
   "metadata": {},
   "outputs": [],
   "source": [
    "!r.stream.order"
   ]
  },
  {
   "cell_type": "code",
   "execution_count": null,
   "id": "1a877415-3632-4924-8a92-c06fb13ec24f",
   "metadata": {},
   "outputs": [],
   "source": [
    "!g.extension extension=r.stream.order"
   ]
  },
  {
   "cell_type": "code",
   "execution_count": null,
   "id": "3f010634-532f-4de4-942e-7d5afe62ff55",
   "metadata": {},
   "outputs": [],
   "source": [
    "!r.stream.order --overwrite stream_rast=Coleridge_SE_Stream direction=Coleridge_SE_Direction elevation=NC_P3_2015_TEM_Coleridge_SE_opr accumulation=Coleridge_SE_ACC stream_vect=Coleridge_SE_Stream strahler=Coleridge_SE_Strahler horton=Coleridge_SE_Horton shreve=Coleridge_SE_Shreve hack=Coleridge_SE_Hack topo=Coleridge_SE_Topo"
   ]
  },
  {
   "cell_type": "markdown",
   "id": "6b26c81d-cbf8-43d9-ad4b-4681cc0ece51",
   "metadata": {},
   "source": [
    "Generalization with [v.generalize](https://grass.osgeo.org/grass84/manuals/v.generalize.html) using the GRASS GIS snakes algorithm."
   ]
  },
  {
   "cell_type": "code",
   "execution_count": null,
   "id": "ce5b6a48-c5b9-418e-a346-7532ef38993a",
   "metadata": {},
   "outputs": [],
   "source": [
    "!v.generalize --overwrite input=Coleridge_SE_Stream output=Coleridge_SE_Order_Smooth method=snakes threshold=2"
   ]
  },
  {
   "cell_type": "markdown",
   "id": "5bb3dd57",
   "metadata": {},
   "source": [
    "Below [v.out.ogr](https://grass.osgeo.org/grass84/manuals/v.out.ogr.html) writes both point-based and line-based flow line features. "
   ]
  },
  {
   "cell_type": "code",
   "execution_count": null,
   "id": "ecabb1f6-4df7-4121-854b-12cdd2e800f2",
   "metadata": {},
   "outputs": [],
   "source": [
    "!v.out.ogr --overwrite input=Coleridge_SE_Order_Smooth output=Reference/Coleridge_SE_Order_Smooth.sqlite format=SQLite"
   ]
  },
  {
   "cell_type": "code",
   "execution_count": null,
   "id": "6919ec6b",
   "metadata": {},
   "outputs": [],
   "source": [
    "# Define Grass Jupyter Map \n",
    "NC_P3_2015_TEM_opr_map = gj.Map()\n",
    "# Add raster data and legend to the map\n",
    "NC_P3_2015_TEM_opr_map.d_rast(map=\"NC_P3_2015_TEM_Coleridge_SE_opr\")\n",
    "NC_P3_2015_TEM_opr_map.d_legend(raster=\"NC_P3_2015_TEM_Coleridge_SE_opr\", color=\"red\")\n",
    "NC_P3_2015_TEM_opr_map.d_vect(map=\"Coleridge_SE_Order_Smooth\", color=\"blue\")\n",
    "# Display the map\n",
    "NC_P3_2015_TEM_opr_map.show()"
   ]
  },
  {
   "cell_type": "markdown",
   "id": "1d0e2f1f",
   "metadata": {},
   "source": [
    "For [\"InteractiveMap\"](https://onlinelibrary.wiley.com/doi/full/10.1111/tgis.13031) display in GRASS GIS in may be necessary to install ipyleaflet."
   ]
  },
  {
   "cell_type": "code",
   "execution_count": null,
   "id": "fcab418b-370b-4183-8255-630b80ee1db7",
   "metadata": {},
   "outputs": [],
   "source": [
    "pip install ipyleaflet"
   ]
  },
  {
   "cell_type": "markdown",
   "id": "481b203a",
   "metadata": {},
   "source": [
    "It may be necessary to restart the kernel and if running the notebook from VSCode, the application may prompt to accept Widget installation upon execution of the next cell."
   ]
  },
  {
   "cell_type": "code",
   "execution_count": null,
   "id": "887a310b-f92a-40e4-9532-c5f2c3d70404",
   "metadata": {},
   "outputs": [],
   "source": [
    "# Create an instance of InteractiveMap\n",
    "map_instance = gj.InteractiveMap(width=800, height=600)\n",
    "\n",
    "# Print out the available methods and attributes\n",
    "print(dir(map_instance))"
   ]
  },
  {
   "cell_type": "markdown",
   "id": "84a88f66",
   "metadata": {},
   "source": [
    "Below v.extract is run to separate the lines in an attempt to make the data lighter for InteractiveMap viewing."
   ]
  },
  {
   "cell_type": "code",
   "execution_count": null,
   "id": "c4ce194a",
   "metadata": {},
   "outputs": [],
   "source": [
    "!v.extract --overwrite input=Coleridge_SE_Order_Smooth output=Coleridge_SE_Order_Smooth_line type=line"
   ]
  },
  {
   "cell_type": "markdown",
   "id": "49767fa8",
   "metadata": {},
   "source": [
    "The InteractiveMap view below may take about a minute to generate give the dataset volume.  In the meantime the GRASS data output with [r.out.gdal](https://grass.osgeo.org/grass84/manuals/r.out.gdal.html) and [v.out.ogr](https://grass.osgeo.org/grass84/manuals/v.out.ogr.html) can be viewed in QGIS."
   ]
  },
  {
   "cell_type": "code",
   "execution_count": null,
   "id": "c0cf7388-cdf9-490b-883d-0dc2e22a8393",
   "metadata": {
    "scrolled": true
   },
   "outputs": [],
   "source": [
    "import grass.jupyter as gj\n",
    "\n",
    "# Define Grass Jupyter Map with interactive features\n",
    "NC_P3_2015_TEM_opr_map = gj.InteractiveMap()  # Adjust size as needed\n",
    "\n",
    "# Add raster data to the map\n",
    "NC_P3_2015_TEM_opr_map.add_raster(\"NC_P3_2015_TEM_Coleridge_SE_opr\")\n",
    "\n",
    "# Add vector data (streams) to the map\n",
    "NC_P3_2015_TEM_opr_map.add_vector(\"Coleridge_SE_Order_Smooth_line\", color=\"blue\", type=\"line\", where=\"strahler >= 5\")\n",
    "\n",
    "# Add layer control\n",
    "NC_P3_2015_TEM_opr_map.add_layer_control()\n",
    "\n",
    "# Display the map\n",
    "NC_P3_2015_TEM_opr_map.show()"
   ]
  },
  {
   "cell_type": "markdown",
   "id": "e7979cba",
   "metadata": {},
   "source": [
    "## Optional:  Geomorphic Processing"
   ]
  },
  {
   "cell_type": "markdown",
   "id": "29e58880",
   "metadata": {},
   "source": [
    "As for the Hydro Flowline Processing, set the region to the Coleridge SE Mask."
   ]
  },
  {
   "cell_type": "code",
   "execution_count": null,
   "id": "2269c0cd",
   "metadata": {},
   "outputs": [],
   "source": [
    "!g.region -pa res=3.125 vect=Coleridge_SE_Mask"
   ]
  },
  {
   "cell_type": "markdown",
   "id": "9cc6b2cd",
   "metadata": {},
   "source": [
    "Expand the region."
   ]
  },
  {
   "cell_type": "code",
   "execution_count": null,
   "id": "cd2e7689",
   "metadata": {},
   "outputs": [],
   "source": [
    "!g.region -p -a n=n+600 s=s-600 w=w-600 e=e+600"
   ]
  },
  {
   "cell_type": "markdown",
   "id": "a1959872",
   "metadata": {},
   "source": [
    "Geomorphic landform identification with [r.geomorphon](https://grass.osgeo.org/grass84/manuals/r.geomorphon.html) can be instrumental in culvert detection when hydro-enforcement is required. This next cell takes about ~6 minutes to run with the search settings below. "
   ]
  },
  {
   "cell_type": "code",
   "execution_count": null,
   "id": "b07e75c1",
   "metadata": {},
   "outputs": [],
   "source": [
    "# %%bash\n",
    "# START=$(date +%s);\n",
    "# sleep 1; \n",
    "# echo $START\n",
    "# r.geomorphon elevation=NC_P3_2015_TEM_Coleridge_SE_opr forms=Coleridge_SE_geomorph search=40 skip=5 flat=6 dist=6 --overwrite\n",
    "# END=$(date +%s);\n",
    "# echo ----- $((END-START)) seconds -----\n",
    "\n",
    "import time\n",
    "\n",
    "start_time = time.time()\n",
    "\n",
    "gs.run_command('r.geomorphon', \n",
    "               elevation='NC_P3_2015_TEM_Coleridge_SE_opr',\n",
    "               forms='Coleridge_SE_geomorph',\n",
    "               search=40,\n",
    "               skip=5,\n",
    "               flat=6,\n",
    "               dist=6,\n",
    "               overwrite=True)\n",
    "\n",
    "end_time = time.time()\n",
    "execution_time = end_time - start_time\n",
    "print(f\"Execution time: {execution_time:.2f} seconds\")"
   ]
  },
  {
   "cell_type": "markdown",
   "id": "58a9503b",
   "metadata": {},
   "source": [
    "Optionally, mode filtering of the geomorphic landform data with [r.neighbors](https://grass.osgeo.org/grass84/manuals/r.neighbors.html) can help with interpretation depending on the dataset."
   ]
  },
  {
   "cell_type": "code",
   "execution_count": null,
   "id": "d110cd51",
   "metadata": {},
   "outputs": [],
   "source": [
    "!r.neighbors in=Coleridge_SE_geomorph out=Coleridge_SE_geomorph_mode3 method=mode nprocs=6 --overwrite"
   ]
  },
  {
   "cell_type": "markdown",
   "id": "b7c91b9f",
   "metadata": {},
   "source": [
    "The next cell reduces the region to match the flow accumulation output."
   ]
  },
  {
   "cell_type": "code",
   "execution_count": null,
   "id": "845861b0",
   "metadata": {},
   "outputs": [],
   "source": [
    "!g.region -p -a n=n-100 s=s+100 w=w+100 e=e-100"
   ]
  },
  {
   "cell_type": "markdown",
   "id": "797fcd56",
   "metadata": {},
   "source": [
    "The geomorphic landforms are then exported with [r.out.gdal](https://grass.osgeo.org/grass84/manuals/r.out.gdal.html) and can be viewed in QGIS."
   ]
  },
  {
   "cell_type": "code",
   "execution_count": null,
   "id": "8fb710fd",
   "metadata": {},
   "outputs": [],
   "source": [
    "!r.out.gdal -f --overwrite input=Coleridge_SE_geomorph output=Reference/Coleridge_SE_geomorph.tif format=GTiff type=Byte createopt=COMPRESS=LZW,PREDICTOR=2,TILED=YES,BLOCKXSIZE=128,BLOCKYSIZE=128,BIGTIFF=YES overviews=5"
   ]
  }
 ],
 "metadata": {
  "kernelspec": {
   "display_name": "Python 3 (ipykernel)",
   "language": "python",
   "name": "python3"
  },
  "language_info": {
   "codemirror_mode": {
    "name": "ipython",
    "version": 3
   },
   "file_extension": ".py",
   "mimetype": "text/x-python",
   "name": "python",
   "nbconvert_exporter": "python",
   "pygments_lexer": "ipython3",
   "version": "3.12.4"
  }
 },
 "nbformat": 4,
 "nbformat_minor": 5
}

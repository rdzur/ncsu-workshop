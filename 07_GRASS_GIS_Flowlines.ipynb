{
 "cells": [
  {
   "cell_type": "markdown",
   "id": "784aa623-1b1b-4141-84b0-2320c9ffefcc",
   "metadata": {},
   "source": [
    "# GRASS GIS LiDAR Derived Hydrography Flowlines\n",
    "\n",
    "This notebook prototypes development of LiDAR elevation derived flow path data in [GRASS GIS]( https://grass.osgeo.org)."
   ]
  },
  {
   "cell_type": "markdown",
   "id": "9841de7c-5000-4c0d-92f6-e10c6e3dce3a",
   "metadata": {},
   "source": [
    "## Install GRASS GIS"
   ]
  },
  {
   "cell_type": "markdown",
   "id": "513ce399-ceaa-4927-b1ab-dd8dad47cc41",
   "metadata": {},
   "source": [
    "Run this notebook within the GRASS GIS environment.  If GRASS is not currently installed download from: [https://grass.osgeo.org/download/](https://grass.osgeo.org/download/)."
   ]
  },
  {
   "cell_type": "markdown",
   "id": "7dc0fc69-7dcb-4d5f-8635-63742bf8fe0d",
   "metadata": {},
   "source": [
    "## Checking the python environment"
   ]
  },
  {
   "cell_type": "code",
   "execution_count": null,
   "id": "09d509cb-565d-47ca-9f95-50daa988b4c8",
   "metadata": {},
   "outputs": [],
   "source": [
    "import sys\n",
    "print (sys.version)"
   ]
  },
  {
   "cell_type": "markdown",
   "id": "f1f1e7d8-c186-474b-98c7-c9f5498ad4cd",
   "metadata": {},
   "source": [
    "## Checking the file path"
   ]
  },
  {
   "cell_type": "code",
   "execution_count": null,
   "id": "4d7ef513-ed15-48b6-aef6-0c2ad049c0ad",
   "metadata": {},
   "outputs": [],
   "source": [
    "%%bash\n",
    "pwd"
   ]
  },
  {
   "cell_type": "code",
   "execution_count": null,
   "id": "58333d45-ecc9-4054-b9c9-b0d04ed4bcb6",
   "metadata": {},
   "outputs": [],
   "source": [
    "!pwd"
   ]
  },
  {
   "cell_type": "markdown",
   "id": "b69bbb2c-1f38-4787-9bdd-8636120cafbd",
   "metadata": {},
   "source": [
    "## Create a new GRASS GIS Project"
   ]
  },
  {
   "cell_type": "markdown",
   "id": "78607e6b-0bf3-462a-98ab-5fd8d55492cd",
   "metadata": {},
   "source": [
    "Creating a new [GRASS GIS]( https://grass.osgeo.org) project.  For LiDAR derived hydrography the project will be conducted in the same Coordinate Reference System (CRS) of the LiDAR based digitial elevation model (DEM) downloaded in the orginal product resolution (OPR) folder.  Flow path analysis may be developed from pre-existing DEMs or DEMs generated from point cloud data."
   ]
  },
  {
   "cell_type": "markdown",
   "id": "2ed82d0b",
   "metadata": {},
   "source": [
    "The `ls` command provides a directory listing at the present working directory (pwd). "
   ]
  },
  {
   "cell_type": "code",
   "execution_count": null,
   "id": "37e433a9-5b89-41e4-bd40-a70088b7992c",
   "metadata": {},
   "outputs": [],
   "source": [
    "!ls "
   ]
  },
  {
   "cell_type": "markdown",
   "id": "1cfc2af0-0793-42bb-a34f-41cb24c14d96",
   "metadata": {},
   "source": [
    "Next, double check the CRS of the DEM data to ensure consistent setup of the GRASS project using the same (CRS)."
   ]
  },
  {
   "cell_type": "code",
   "execution_count": null,
   "id": "2d7a35dd-6c0c-4b0b-bea8-5226069f29df",
   "metadata": {},
   "outputs": [],
   "source": [
    "!ls ./OPR/*.tif"
   ]
  },
  {
   "cell_type": "markdown",
   "id": "5e92507f-c058-4967-ab06-7d7e564782ce",
   "metadata": {},
   "source": [
    "Selecting one of the GeoTIFF files, read the coordinate system with [gdalinfo](https://gdal.org/programs/gdalinfo.html#gdalinfo)."
   ]
  },
  {
   "cell_type": "code",
   "execution_count": null,
   "id": "9f02f3c4-89e6-43db-bbaf-8c29ac483e43",
   "metadata": {},
   "outputs": [],
   "source": [
    "%%bash\n",
    "gdalinfo ./OPR/D03_37_10875003_20160228.tif"
   ]
  },
  {
   "cell_type": "markdown",
   "id": "c5274495-f172-4898-aa3a-66065f65ccff",
   "metadata": {},
   "source": [
    "Based on the above output, the command below will create (with the -`c` flag) a GRASS GIS project in North Carolina State Plane projection with US Survey Foot (USFT) units using the corresponding code: [EPSG:6543](https://epsg.org/crs_6543/NAD83-2011-North-Carolina-ftUS.html).  The following GRASS GIS command builds the empty GRASS project at the local home directory path (and exits with the -`e` flag)."
   ]
  },
  {
   "cell_type": "code",
   "execution_count": null,
   "id": "414264b1-87b8-4aba-b202-9cde8f5039e3",
   "metadata": {},
   "outputs": [],
   "source": [
    "%%bash\n",
    "grass -c EPSG:6543 -e ~/grassdata/GRASS_6543/"
   ]
  },
  {
   "cell_type": "markdown",
   "id": "499724a2-419c-441f-8bcb-d5403697116f",
   "metadata": {},
   "source": [
    "Information about running GRASS GIS in jupyter notbooks is available at the following [link](https://grass.osgeo.org/grass83/manuals/libpython/index.html).  The next cell will initiate the GRASS GIS project just created and import requried libraries."
   ]
  },
  {
   "cell_type": "code",
   "execution_count": null,
   "id": "654710bc-73f2-4427-b1b4-71c9dc4a8a63",
   "metadata": {},
   "outputs": [],
   "source": [
    "# Load Python environment and IPython package.\n",
    "import subprocess\n",
    "import sys\n",
    "\n",
    "# Query GRASS GIS as to Python packages.\n",
    "sys.path.append(\n",
    "    subprocess.check_output([\"grass\", \"--config\", \"python_path\"], text=True).strip()\n",
    ")\n",
    "\n",
    "# Load the GRASS GIS packages.\n",
    "import grass.script as gs\n",
    "import grass.jupyter as gj\n",
    "\n",
    "# Start GRASS GIS project previously created above.\n",
    "session = gj.init(\"~/grassdata\", \"GRASS_6543\", \"PERMANENT\")"
   ]
  },
  {
   "cell_type": "markdown",
   "id": "43fc355c-3345-41ee-943d-84bcf64f628c",
   "metadata": {},
   "source": [
    "Check the current GRASS GIS environment and list the mapset, database, location and projection information."
   ]
  },
  {
   "cell_type": "code",
   "execution_count": null,
   "id": "1c58e058-bac7-4332-854e-4ce4875ed9d6",
   "metadata": {},
   "outputs": [],
   "source": [
    "%%bash\n",
    "g.gisenv\n",
    "g.proj -p"
   ]
  },
  {
   "cell_type": "markdown",
   "id": "3bf3ab9b",
   "metadata": {},
   "source": [
    "## Import / Create LiDAR DEM data."
   ]
  },
  {
   "cell_type": "markdown",
   "id": "ab8d3b90-a476-4ccc-b36f-3478805f544c",
   "metadata": {},
   "source": [
    "Data (DEM / LiDAR) for this exercise is available at the NOAA Digital Coast bulk download site:  \n",
    "\n",
    "- DEM:  [https://chs.coast.noaa.gov/htdata/raster2/elevation/NorthCarolina_DEM_2015P3_6205/](https://chs.coast.noaa.gov/htdata/raster2/elevation/NorthCarolina_DEM_2015P3_6205/)\n",
    "- LiDAR:  [https://noaa-nos-coastal-lidar-pds.s3.amazonaws.com/laz/geoid18/6209/index.html](https://noaa-nos-coastal-lidar-pds.s3.amazonaws.com/laz/geoid18/6209/index.html)\n",
    "\n",
    "Import the DEM with GRASS GIS [r.import](https://grass.osgeo.org/grass83/manuals/r.import.html)."
   ]
  },
  {
   "cell_type": "code",
   "execution_count": null,
   "id": "1b7698ab-3b32-462e-8e5e-dedcb71375fb",
   "metadata": {},
   "outputs": [],
   "source": [
    "!r.import in=Reference/NC_P3_2015_TEM_Coleridge_SE_opr.tif out=NC_P3_2015_TEM_Coleridge_SE_opr --overwrite"
   ]
  },
  {
   "cell_type": "code",
   "execution_count": null,
   "id": "d7fa0b46-d65b-4750-b543-011c8507ca5b",
   "metadata": {},
   "outputs": [],
   "source": [
    "!g.list rast"
   ]
  },
  {
   "cell_type": "code",
   "execution_count": null,
   "id": "1e221a84-352d-4630-85c1-41741a72b0bc",
   "metadata": {},
   "outputs": [],
   "source": [
    "!g.region -p rast=NC_P3_2015_TEM_Coleridge_SE_opr"
   ]
  },
  {
   "cell_type": "code",
   "execution_count": null,
   "id": "05e3a03a-2a7a-4e68-b949-3edb63015d93",
   "metadata": {},
   "outputs": [],
   "source": [
    "# Define Grass Jupyter Map \n",
    "NC_P3_2015_TEM_opr_map = gj.Map()\n",
    "# Add raster data and legend to the map\n",
    "NC_P3_2015_TEM_opr_map.d_rast(map=\"NC_P3_2015_TEM_Coleridge_SE_opr\")\n",
    "NC_P3_2015_TEM_opr_map.d_legend(raster=\"NC_P3_2015_TEM_Coleridge_SE_opr\", color=\"red\")\n",
    "# Display the map\n",
    "NC_P3_2015_TEM_opr_map.show()"
   ]
  },
  {
   "cell_type": "markdown",
   "id": "8c759f9f-a301-4dca-926e-a47fffd87d7b",
   "metadata": {},
   "source": [
    "On USGS QL2-based projects BHI traditional data processing mode is to conduct analysis at the USGS 7.5 minute quadrangle series level.  In this exercise, we'll utilize the 3.75 minute quarter quadrangle series as the atomic unit for proceessing and import a vector cell map for this TEM area of interest (AOI)."
   ]
  },
  {
   "cell_type": "code",
   "execution_count": null,
   "id": "76d0e6cd-8267-4033-ade4-890ffda967a5",
   "metadata": {},
   "outputs": [],
   "source": [
    "!v.import in=Reference/cellgrid_3_75minute_tem.gpkg out=cellgrid_3_75minute_tem"
   ]
  },
  {
   "cell_type": "code",
   "execution_count": null,
   "id": "1d233d7c-28b0-4ba8-be5e-57a1b0aa537d",
   "metadata": {},
   "outputs": [],
   "source": [
    "# Define Grass Jupyter Map \n",
    "NC_P3_2015_TEM_opr_map = gj.Map()\n",
    "# Add raster data and legend to the map\n",
    "NC_P3_2015_TEM_opr_map.d_rast(map=\"NC_P3_2015_TEM_Coleridge_SE_opr\")\n",
    "NC_P3_2015_TEM_opr_map.d_legend(raster=\"NC_P3_2015_TEM_Coleridge_SE_opr\", color=\"red\")\n",
    "NC_P3_2015_TEM_opr_map.d_vect(map=\"cellgrid_3_75minute_tem\", fill=\"none\", attribute_column=\"CELL_NAME\", xref=\"center\", label_size=12)\n",
    "# Display the map\n",
    "NC_P3_2015_TEM_opr_map.show()"
   ]
  },
  {
   "cell_type": "markdown",
   "id": "157cfdc6-ce20-40d8-bfc8-94a9590ecef7",
   "metadata": {},
   "source": [
    "List the cellgrid vector table columns with [db.columns](https://grass.osgeo.org/grass84/manuals/db.columns.html) and [v.db.select](https://grass.osgeo.org/grass84/manuals/v.db.select.html)."
   ]
  },
  {
   "cell_type": "code",
   "execution_count": null,
   "id": "1cb26bcb-96f5-4e5f-8a7d-cc4d4f619db8",
   "metadata": {},
   "outputs": [],
   "source": [
    "!db.columns table=cellgrid_3_75minute_tem"
   ]
  },
  {
   "cell_type": "code",
   "execution_count": null,
   "id": "27d7df48-b562-48a6-b048-8bcc79b4ae7f",
   "metadata": {},
   "outputs": [],
   "source": [
    "!v.db.select map=cellgrid_3_75minute_tem column=CELL_NAME | tail -n +2 | sed 's/ /_/g'"
   ]
  },
  {
   "cell_type": "markdown",
   "id": "cd9fe266-e686-4d48-9328-389f60b66a9f",
   "metadata": {},
   "source": [
    "Output the above command as a file list."
   ]
  },
  {
   "cell_type": "code",
   "execution_count": null,
   "id": "be2188b9-4cb2-406e-bb77-9e21a32d1464",
   "metadata": {},
   "outputs": [],
   "source": [
    "!v.db.select map=cellgrid_3_75minute_tem column=CELL_NAME | tail -n +2 | sed 's/ /_/g' > Reference/CellGrid_3_75Minute_TEM.txt"
   ]
  },
  {
   "cell_type": "code",
   "execution_count": null,
   "id": "6c25ac39-7f95-4064-88b4-73fe16298c32",
   "metadata": {},
   "outputs": [],
   "source": [
    "!cat Reference/CellGrid_3_75Minute_TEM.txt"
   ]
  },
  {
   "cell_type": "markdown",
   "id": "c35c1580-2107-4ba0-ae1c-99e00ec1e6fc",
   "metadata": {},
   "source": [
    "Extract 3.75 minute quadrangle units for processing with a shell script."
   ]
  },
  {
   "cell_type": "code",
   "execution_count": null,
   "id": "9dea43c4-77fa-4933-9f8b-f77920b6a2e1",
   "metadata": {},
   "outputs": [],
   "source": [
    "!sh ./make_quad_extract.sh"
   ]
  },
  {
   "cell_type": "code",
   "execution_count": null,
   "id": "81c2ea33-9d96-4977-bfa2-bec2dc011cd8",
   "metadata": {},
   "outputs": [],
   "source": [
    "!g.list vect"
   ]
  },
  {
   "cell_type": "markdown",
   "id": "6396f20d-63d2-49f0-8fd6-ead9298197dc",
   "metadata": {},
   "source": [
    "Individual steps follow in the next cells to demonstrate processing using the Coleridge SE 3.75 minute unit, starting with setting the region with [g.region](https://grass.osgeo.org/grass84/manuals/g.region.html)."
   ]
  },
  {
   "cell_type": "code",
   "execution_count": null,
   "id": "80126358-885c-4b8f-9031-a00ddaf47dc5",
   "metadata": {},
   "outputs": [],
   "source": [
    "!g.region -pa res=3.125 vect=Coleridge_SE_Mask"
   ]
  },
  {
   "cell_type": "markdown",
   "id": "0a6a7872-caa0-425c-8c75-c1a534766be6",
   "metadata": {},
   "source": [
    "In traditional BHI flow line processing, the region has normally been extended (by 3600 feet) to ensure consistent map boundary edge matching.  For this exercise, given limited DEM coverage, unit boundary analysis regions will be extended by 600 feet at the native resolution of the DEM data -- 3.125 feet.  Traditional processsing for QL2 has normally operated at 2 foot pixel resoultion and for QL1 at 1 foot pixel resolution."
   ]
  },
  {
   "cell_type": "code",
   "execution_count": null,
   "id": "3b7cc8b4-33cd-4eac-98a7-27b930bf7b95",
   "metadata": {},
   "outputs": [],
   "source": [
    "!g.region -p -a n=n+600 s=s-600 w=w-600 e=e+600"
   ]
  },
  {
   "cell_type": "markdown",
   "id": "13fd202c-532b-47e7-b168-aad1c298b2cd",
   "metadata": {},
   "source": [
    "Geomorphic landform identification with [r.geomorphon](https://grass.osgeo.org/grass84/manuals/r.geomorphon.html) can be instrumental in culvert detection when hydro-enforcement is required. This next cell takes about ~6 minutes to run."
   ]
  },
  {
   "cell_type": "code",
   "execution_count": null,
   "id": "06a37ff1-3fae-49a1-92c3-44b6a10460b7",
   "metadata": {},
   "outputs": [],
   "source": [
    "%%bash\n",
    "START=$(date +%s);\n",
    "sleep 1; \n",
    "echo $START\n",
    "r.geomorphon elevation=NC_P3_2015_TEM_Coleridge_SE_opr forms=Coleridge_SE_geomorph search=40 skip=5 flat=6 dist=6 --overwrite\n",
    "END=$(date +%s);\n",
    "echo ----- $((END-START)) seconds -----"
   ]
  },
  {
   "cell_type": "markdown",
   "id": "d71922a8-8b5f-4e06-be65-abf547c44a25",
   "metadata": {},
   "source": [
    "Optionally, mode filtering of the geomorphic landform data with [r.neighbors](https://grass.osgeo.org/grass84/manuals/r.neighbors.html) can help with interpretation depending on the dataset."
   ]
  },
  {
   "cell_type": "code",
   "execution_count": null,
   "id": "adf5262f-19e5-4ce1-b209-510f7ca9f646",
   "metadata": {},
   "outputs": [],
   "source": [
    "!r.neighbors in=Coleridge_SE_geomorph out=Coleridge_SE_geomorph_mode3 method=mode nprocs=6 --overwrite"
   ]
  },
  {
   "cell_type": "code",
   "execution_count": null,
   "id": "bb067af2-a42a-40eb-bb20-aa08553c36af",
   "metadata": {},
   "outputs": [],
   "source": [
    "!r.watershed --overwrite elevation=NC_P3_2015_TEM_Coleridge_SE_opr accumulation=Coleridge_SE_ACC"
   ]
  },
  {
   "cell_type": "markdown",
   "id": "640a9d72-8245-4cc8-a066-899b9cc5a1c5",
   "metadata": {},
   "source": [
    "In the next cell the computational region is reduced by 100 feet. "
   ]
  },
  {
   "cell_type": "code",
   "execution_count": null,
   "id": "2389d315-d48e-4ffa-958a-9ddbafcc020b",
   "metadata": {},
   "outputs": [],
   "source": [
    "!g.region -p -a n=n-100 s=s+100 w=w+100 e=e-100"
   ]
  },
  {
   "cell_type": "code",
   "execution_count": null,
   "id": "d46f20f2-9142-4ea8-ad10-608f9fc3c2ad",
   "metadata": {},
   "outputs": [],
   "source": [
    "!r.out.gdal -f --overwrite input=Coleridge_SE_ACC output=Reference/Coleridge_SE_ACC.tif format=GTiff type=Float64 createopt=COMPRESS=LZW,PREDICTOR=3,TILED=YES,BLOCKXSIZE=128,BLOCKYSIZE=128,BIGTIFF=YES overviews=5"
   ]
  },
  {
   "cell_type": "code",
   "execution_count": null,
   "id": "4e0c1fee-15e3-4022-90e9-110032e25983",
   "metadata": {},
   "outputs": [],
   "source": [
    "!r.out.gdal -f --overwrite input=Coleridge_SE_geomorph output=Reference/Coleridge_SE_geomorph.tif format=GTiff type=Byte createopt=COMPRESS=LZW,PREDICTOR=2,TILED=YES,BLOCKXSIZE=128,BLOCKYSIZE=128,BIGTIFF=YES overviews=5"
   ]
  },
  {
   "cell_type": "code",
   "execution_count": null,
   "id": "92fec5ac-77de-4c4e-8327-50bbab7a4e6b",
   "metadata": {},
   "outputs": [],
   "source": [
    "!r.stream.extract elevation=\"NC_P3_2015_TEM_Coleridge_SE_opr\" accumulation=Coleridge_SE_ACC direction=Coleridge_SE_Direction threshold=1000 stream_rast=Coleridge_SE_Stream --overwrite"
   ]
  },
  {
   "cell_type": "markdown",
   "id": "d863c9f8-e303-4051-b4cc-7aefdd4c75b1",
   "metadata": {},
   "source": [
    "The next cells add stream ordering with the GRASS GIS Add-on [r.stream.order](https://grass.osgeo.org/grass84/manuals/addons/r.stream.order.html)."
   ]
  },
  {
   "cell_type": "markdown",
   "id": "d4381c09-5646-4078-8e0f-377190d116a4",
   "metadata": {},
   "source": [
    "Install the Add-on."
   ]
  },
  {
   "cell_type": "code",
   "execution_count": null,
   "id": "bd15c31a-532c-4f9d-befc-e9b1b0bbb37c",
   "metadata": {},
   "outputs": [],
   "source": [
    "!r.stream.order"
   ]
  },
  {
   "cell_type": "code",
   "execution_count": null,
   "id": "1a877415-3632-4924-8a92-c06fb13ec24f",
   "metadata": {},
   "outputs": [],
   "source": [
    "# !g.extension extension=r.stream.order"
   ]
  },
  {
   "cell_type": "code",
   "execution_count": null,
   "id": "3f010634-532f-4de4-942e-7d5afe62ff55",
   "metadata": {},
   "outputs": [],
   "source": [
    "!r.stream.order --overwrite stream_rast=Coleridge_SE_Stream direction=Coleridge_SE_Direction elevation=NC_P3_2015_TEM_Coleridge_SE_opr accumulation=Coleridge_SE_ACC stream_vect=Coleridge_SE_Stream strahler=Coleridge_SE_Strahler horton=Coleridge_SE_Horton shreve=Coleridge_SE_Shreve hack=Coleridge_SE_Hack topo=Coleridge_SE_Topo"
   ]
  },
  {
   "cell_type": "markdown",
   "id": "6b26c81d-cbf8-43d9-ad4b-4681cc0ece51",
   "metadata": {},
   "source": [
    "Generalization with [v.generalize](https://grass.osgeo.org/grass84/manuals/v.generalize.html) using the GRASS GIS snakes algorithm."
   ]
  },
  {
   "cell_type": "code",
   "execution_count": null,
   "id": "ce5b6a48-c5b9-418e-a346-7532ef38993a",
   "metadata": {},
   "outputs": [],
   "source": [
    "!v.generalize --overwrite input=Coleridge_SE_Stream output=Coleridge_SE_Order_Smooth method=snakes threshold=2"
   ]
  },
  {
   "cell_type": "code",
   "execution_count": null,
   "id": "ecabb1f6-4df7-4121-854b-12cdd2e800f2",
   "metadata": {},
   "outputs": [],
   "source": [
    "!v.out.ogr --overwrite input=Coleridge_SE_Order_Smooth output=Reference/Coleridge_SE_Order_Smooth.sqlite format=SQLite"
   ]
  }
 ],
 "metadata": {
  "kernelspec": {
   "display_name": "Python 3 (ipykernel)",
   "language": "python",
   "name": "python3"
  },
  "language_info": {
   "codemirror_mode": {
    "name": "ipython",
    "version": 3
   },
   "file_extension": ".py",
   "mimetype": "text/x-python",
   "name": "python",
   "nbconvert_exporter": "python",
   "pygments_lexer": "ipython3",
   "version": "3.12.4"
  }
 },
 "nbformat": 4,
 "nbformat_minor": 5
}
